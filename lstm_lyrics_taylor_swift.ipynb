{
  "nbformat": 4,
  "nbformat_minor": 0,
  "metadata": {
    "colab": {
      "name": "lstm-lyrics-taylor-swift.ipynb",
      "version": "0.3.2",
      "views": {},
      "default_view": {},
      "provenance": []
    },
    "kernelspec": {
      "name": "python2",
      "display_name": "Python 2"
    },
    "accelerator": "GPU"
  },
  "cells": [
    {
      "metadata": {
        "id": "8j4z5tQ16Sob",
        "colab_type": "code",
        "colab": {
          "autoexec": {
            "startup": false,
            "wait_interval": 0
          },
          "base_uri": "https://localhost:8080/",
          "height": 51
        },
        "outputId": "44192c01-0287-48ef-da0f-1b216fba70e8",
        "executionInfo": {
          "status": "ok",
          "timestamp": 1525254124363,
          "user_tz": -120,
          "elapsed": 7291,
          "user": {
            "displayName": "Arunav Konwar",
            "photoUrl": "//lh6.googleusercontent.com/-15YlfI3XUT4/AAAAAAAAAAI/AAAAAAAADRo/u0OslYG2gEQ/s50-c-k-no/photo.jpg",
            "userId": "111945760301522325037"
          }
        }
      },
      "cell_type": "code",
      "source": [
        "import keras\n",
        "keras.__version__"
      ],
      "execution_count": 1,
      "outputs": [
        {
          "output_type": "stream",
          "text": [
            "Using TensorFlow backend.\n"
          ],
          "name": "stderr"
        },
        {
          "output_type": "execute_result",
          "data": {
            "text/plain": [
              "'2.1.6'"
            ]
          },
          "metadata": {
            "tags": []
          },
          "execution_count": 1
        }
      ]
    },
    {
      "metadata": {
        "id": "NERTQEae6Z6y",
        "colab_type": "code",
        "colab": {
          "autoexec": {
            "startup": false,
            "wait_interval": 0
          },
          "base_uri": "https://localhost:8080/",
          "height": 84
        },
        "outputId": "6252b40c-578f-49b4-ada2-30c19576597e",
        "executionInfo": {
          "status": "ok",
          "timestamp": 1525254128995,
          "user_tz": -120,
          "elapsed": 447,
          "user": {
            "displayName": "Arunav Konwar",
            "photoUrl": "//lh6.googleusercontent.com/-15YlfI3XUT4/AAAAAAAAAAI/AAAAAAAADRo/u0OslYG2gEQ/s50-c-k-no/photo.jpg",
            "userId": "111945760301522325037"
          }
        }
      },
      "cell_type": "code",
      "source": [
        "import keras\n",
        "import numpy as np\n",
        "\n",
        "path = keras.utils.get_file(\n",
        "    'taylor-swift.txt',\n",
        "    origin='https://raw.githubusercontent.com/arunavkonwar/collab-files/master/taylor-swift-songs.txt')\n",
        "text = open(path).read().lower()\n",
        "print('Corpus length:', len(text))"
      ],
      "execution_count": 2,
      "outputs": [
        {
          "output_type": "stream",
          "text": [
            "Downloading data from https://raw.githubusercontent.com/arunavkonwar/collab-files/master/taylor-swift-songs.txt\n",
            "172032/165625 [===============================] - 0s 0us/step\n",
            "180224/165625 [================================] - 0s 0us/step\n",
            "('Corpus length:', 165625)\n"
          ],
          "name": "stdout"
        }
      ]
    },
    {
      "metadata": {
        "id": "fO6Iu5mW6dkJ",
        "colab_type": "code",
        "colab": {
          "autoexec": {
            "startup": false,
            "wait_interval": 0
          },
          "base_uri": "https://localhost:8080/",
          "height": 67
        },
        "outputId": "7818ad30-7f9e-492f-dbcb-beb23ea87ad5",
        "executionInfo": {
          "status": "ok",
          "timestamp": 1525254130715,
          "user_tz": -120,
          "elapsed": 1580,
          "user": {
            "displayName": "Arunav Konwar",
            "photoUrl": "//lh6.googleusercontent.com/-15YlfI3XUT4/AAAAAAAAAAI/AAAAAAAADRo/u0OslYG2gEQ/s50-c-k-no/photo.jpg",
            "userId": "111945760301522325037"
          }
        }
      },
      "cell_type": "code",
      "source": [
        "# Length of extracted character sequences\n",
        "maxlen = 60\n",
        "\n",
        "# We sample a new sequence every `step` characters\n",
        "step = 3\n",
        "\n",
        "# This holds our extracted sequences\n",
        "sentences = []\n",
        "\n",
        "# This holds the targets (the follow-up characters)\n",
        "next_chars = []\n",
        "\n",
        "for i in range(0, len(text) - maxlen, step):\n",
        "    sentences.append(text[i: i + maxlen])\n",
        "    next_chars.append(text[i + maxlen])\n",
        "print('Number of sequences:', len(sentences))\n",
        "\n",
        "# List of unique characters in the corpus\n",
        "chars = sorted(list(set(text)))\n",
        "print('Unique characters:', len(chars))\n",
        "# Dictionary mapping unique characters to their index in `chars`\n",
        "char_indices = dict((char, chars.index(char)) for char in chars)\n",
        "\n",
        "# Next, one-hot encode the characters into binary arrays.\n",
        "print('Vectorization...')\n",
        "x = np.zeros((len(sentences), maxlen, len(chars)), dtype=np.bool)\n",
        "y = np.zeros((len(sentences), len(chars)), dtype=np.bool)\n",
        "for i, sentence in enumerate(sentences):\n",
        "    for t, char in enumerate(sentence):\n",
        "        x[i, t, char_indices[char]] = 1\n",
        "    y[i, char_indices[next_chars[i]]] = 1"
      ],
      "execution_count": 3,
      "outputs": [
        {
          "output_type": "stream",
          "text": [
            "('Number of sequences:', 55189)\n",
            "('Unique characters:', 57)\n",
            "Vectorization...\n"
          ],
          "name": "stdout"
        }
      ]
    },
    {
      "metadata": {
        "id": "zx0D-Qco6oGC",
        "colab_type": "code",
        "colab": {
          "autoexec": {
            "startup": false,
            "wait_interval": 0
          }
        }
      },
      "cell_type": "code",
      "source": [
        "from keras import layers\n",
        "\n",
        "model = keras.models.Sequential()\n",
        "model.add(layers.LSTM(128, input_shape=(maxlen, len(chars))))\n",
        "model.add(layers.Dense(len(chars), activation='softmax'))"
      ],
      "execution_count": 0,
      "outputs": []
    },
    {
      "metadata": {
        "id": "3EkPjt7_6shF",
        "colab_type": "code",
        "colab": {
          "autoexec": {
            "startup": false,
            "wait_interval": 0
          }
        }
      },
      "cell_type": "code",
      "source": [
        "optimizer = keras.optimizers.RMSprop(lr=0.01)\n",
        "model.compile(loss='categorical_crossentropy', optimizer=optimizer)"
      ],
      "execution_count": 0,
      "outputs": []
    },
    {
      "metadata": {
        "id": "tP8C5mh56yDb",
        "colab_type": "code",
        "colab": {
          "autoexec": {
            "startup": false,
            "wait_interval": 0
          }
        }
      },
      "cell_type": "code",
      "source": [
        "def sample(preds, temperature=1.0):\n",
        "    preds = np.asarray(preds).astype('float64')\n",
        "    preds = np.log(preds) / temperature\n",
        "    exp_preds = np.exp(preds)\n",
        "    preds = exp_preds / np.sum(exp_preds)\n",
        "    probas = np.random.multinomial(1, preds, 1)\n",
        "    return np.argmax(probas)"
      ],
      "execution_count": 0,
      "outputs": []
    },
    {
      "metadata": {
        "id": "kePlaDE_6-nj",
        "colab_type": "code",
        "colab": {
          "autoexec": {
            "startup": false,
            "wait_interval": 0
          },
          "base_uri": "https://localhost:8080/",
          "height": 48935
        },
        "outputId": "ce8662ec-5fa2-4266-f4f5-712ec52cffdd",
        "executionInfo": {
          "status": "error",
          "timestamp": 1525262284072,
          "user_tz": -120,
          "elapsed": 7587649,
          "user": {
            "displayName": "Arunav Konwar",
            "photoUrl": "//lh6.googleusercontent.com/-15YlfI3XUT4/AAAAAAAAAAI/AAAAAAAADRo/u0OslYG2gEQ/s50-c-k-no/photo.jpg",
            "userId": "111945760301522325037"
          }
        }
      },
      "cell_type": "code",
      "source": [
        "import random\n",
        "import sys\n",
        "import h5py\n",
        "from google.colab import files\n",
        "\n",
        "for epoch in range(1, 60):\n",
        "    print('epoch', epoch)\n",
        "    # Fit the model for 1 epoch on the available training data\n",
        "    model.fit(x, y,\n",
        "              batch_size=128,\n",
        "              epochs=1)\n",
        "\n",
        "    # Select a text seed at random\n",
        "    start_index = random.randint(0, len(text) - maxlen - 1)\n",
        "    generated_text = text[start_index: start_index + maxlen]\n",
        "    print('--- Generating with seed: \"' + generated_text + '\"')\n",
        "\n",
        "    for temperature in [0.2, 0.5, 1.0, 1.2]:\n",
        "        print('------ temperature:', temperature)\n",
        "        sys.stdout.write(generated_text)\n",
        "\n",
        "        # We generate 400 characters\n",
        "        for i in range(400):\n",
        "            sampled = np.zeros((1, maxlen, len(chars)))\n",
        "            for t, char in enumerate(generated_text):\n",
        "                sampled[0, t, char_indices[char]] = 1.\n",
        "\n",
        "            preds = model.predict(sampled, verbose=0)[0]\n",
        "            next_index = sample(preds, temperature)\n",
        "            next_char = chars[next_index]\n",
        "\n",
        "            generated_text += next_char\n",
        "            generated_text = generated_text[1:]\n",
        "\n",
        "            sys.stdout.write(next_char)\n",
        "            sys.stdout.flush()\n",
        "        print()\n",
        "model.save_weights('taylor-swift-lyrics-lstm.h5')\n",
        "files.download('taylor-swift-lyrics-lstm.h5')"
      ],
      "execution_count": 14,
      "outputs": [
        {
          "output_type": "stream",
          "text": [
            "('epoch', 1)\n",
            "Epoch 1/1\n",
            "55189/55189 [==============================] - 63s 1ms/step - loss: 1.3676\n",
            "--- Generating with seed: \" wish i could run to you\n",
            "and i hope you know that\n",
            "everytime \"\n",
            "('------ temperature:', 0.2)\n",
            " wish i could run to you\n",
            "and i hope you know that\n",
            "everytime i was wind to me to the way you want to the way too what you want to be the way you were the way too what you want to be the way too what you want to be the way too w"
          ],
          "name": "stdout"
        },
        {
          "output_type": "stream",
          "text": [
            "hat you want you wilk a bream on the way you want to be the way you want to the way you want to be the way you want to be the way too what you want to tell you when you see you were things the way you want to be the way too what you w()\n",
            "('------ temperature:', 0.5)\n",
            "ou were things the way you want to be the way too what you want we were we were the woods think what you were in so me and you can i said and ream oh, oh, oh, oh, oh,oodywood when you say i see you wore the way you want to crouds with"
          ],
          "name": "stdout"
        },
        {
          "output_type": "stream",
          "text": [
            " you are we one here think what you want you and you say when you gottand sorry one what you say you want and when we were why way why's real with to eyes in the will a was a was a time something with the way world with your h()\n",
            "('------ temperature:', 1.0)\n",
            " a was a was a time something with the way world with your ho yeah, fares yead thropiugh\n",
            "babigh now to place had act line daadin\n",
            "to do grow timn, i dree he creen, do if the xaly, say, \"you say you're a his plakes this cancey, and yoa los mm "
          ],
          "name": "stdout"
        },
        {
          "output_type": "stream",
          "text": [
            "mind whole whan  ot abvering with my all trouble cecieeys (baby our phet onti call the belove the one with anone and you can sie\n",
            "drew me hea-tet, where you wine you's see (thos trast\n",
            "thit\n",
            "that's real you don't strange g()\n",
            "('------ temperature:', 1.2)\n",
            "e you's see (thos trast\n",
            "thit\n",
            "that's real you don't strange good down\n",
            "in jreps ep s cryss\n",
            "when's be re guce afarrline you and and you're live me,\n",
            "\"hen you like and i don't calling vin yer, i'm goital just miss time, she's litelu back i said of whe"
          ],
          "name": "stdout"
        },
        {
          "output_type": "stream",
          "text": [
            "n we neat ter, an, go, i'm islonn\n",
            "frsame\n",
            "be feet trace all heak in yo\n",
            "roubye, yea worts you like it highs't heren to belisit overusi, as, the as i rownny trying on, thin, whis wanting's nother\n",
            "gore\n",
            "hol'r never goon()\n",
            "('epoch', 2)\n",
            "Epoch 1/1\n",
            "31616/55189 [================>.............] - ETA: 27s - loss: 1.2686"
          ],
          "name": "stdout"
        },
        {
          "output_type": "stream",
          "text": [
            "55189/55189 [==============================] - 63s 1ms/step - loss: 1.2732\n",
            "--- Generating with seed: \" this?\n",
            "i was thinking that you could be trusted\n",
            "did you have\"\n",
            "('------ temperature:', 0.2)\n",
            " this?\n",
            "i was thinking that you could be trusted\n",
            "did you have with me hands gone with me and i know you belong with me had is it never go out in love in a shake it all the best stand to me heard and i know you were to be the way to see the starting the bright in the clear yet?\n",
            "and i know you wa"
          ],
          "name": "stdout"
        },
        {
          "output_type": "stream",
          "text": [
            "nt to be soner dreams\n",
            "we come to new york we come to new york we come to new york we come to new york we come to new york we come to new york and i don't want to see ()\n",
            "('------ temperature:', 0.5)\n",
            "ome to new york we come to new york and i don't want to see you say that in so come on my smile in love is feel sidew you want that you had you say you betting but you want to me and i know that was betting high do in the clow the one you we somethe way home with me down spight and i love"
          ],
          "name": "stdout"
        },
        {
          "output_type": "stream",
          "text": [
            " fored it bety her you can still me\n",
            "i don't want to the blue to don't he stort habe out come on, i don't want to let in eness, babe i said his all it all those way to relo()\n",
            "('------ temperature:', 1.0)\n",
            "o let in eness, babe i said his all it all those way to relove and as look gone\n",
            "why let that's it's sick to\n",
            "be don't you i whopever why ston i ceme ay i fine it habe up\n",
            "it's a breasle\n",
            "to tulking in love and. the kid\n",
            "at leave it remiecd, it's remelbe\n",
            "i've gut on the sto mode take the f"
          ],
          "name": "stdout"
        },
        {
          "output_type": "stream",
          "text": [
            "eelod was a stame unting\n",
            "boly now\n",
            "(oh od her beat\n",
            "he can't say to ne high loveru uanincer call me 'rife keeps you soing comfing\n",
            "welchem meting away\n",
            "'cause it's not doney, just()\n",
            "('------ temperature:', 1.2)\n",
            "oing comfing\n",
            "welchem meting away\n",
            "'cause it's not doney, just close wanna lime minis, in the kingwes turn like beare me\n",
            "and yla sidn beforero\"\n",
            "'caute it ant no\n",
            "tilel angin.....\n",
            "iokns, eye if it's the bluading you year forle aichany traghips isd toudeyre some...iemen'cayeh, care it m"
          ],
          "name": "stdout"
        },
        {
          "output_type": "stream",
          "text": [
            "e in lost ma 'cause it.\n",
            "you're sores\n",
            "it'm this nighinger epsterce\n",
            "in this love is scar yep?\n",
            "romeo, you inel hids to really where, you're somethen\n",
            "won't fisel you say you hell di.()\n",
            "('epoch', 3)\n",
            "Epoch 1/1\n",
            "39168/55189 [====================>.........] - ETA: 18s - loss: 1.1919"
          ],
          "name": "stdout"
        },
        {
          "output_type": "stream",
          "text": [
            "55189/55189 [==============================] - 63s 1ms/step - loss: 1.2074\n",
            "--- Generating with seed: \"ld tell you his favorite color's green\n",
            "he loves to argue, bo\"\n",
            "('------ temperature:', 0.2)\n",
            "ld tell you his favorite color's green\n",
            "he loves to argue, bout you and i hate me now with your hands was a says\n",
            "he's the starts that you said and you said...\n",
            "i was coor this is the frow the way was a says why can tell me this is the blown was a saying that was a mould say what you want, call it)\n",
            "welco "
          ],
          "name": "stdout"
        },
        {
          "output_type": "stream",
          "text": [
            "her, i'm a seading with me have that you want, call it)\n",
            "well you walking you are in the clear yet?\n",
            "are we out of the woods? are we out of the woods? are we i()\n",
            "('------ temperature:', 0.5)\n",
            "?\n",
            "are we out of the woods? are we out of the woods? are we in the clear yet?\n",
            "are we out of the woods? are we fortting hell you home and the time with your face\n",
            "this is the frowthe hall gone i'm going alone\n",
            "i was chose him think what you think like all that well you say you're ever been better thi"
          ],
          "name": "stdout"
        },
        {
          "output_type": "stream",
          "text": [
            "ng crong it cloud are in my hait, with this is think you should've tound to me\n",
            "if it's time how it's tell you if this ain stay whate hold was a swithround if what ()\n",
            "('------ temperature:', 1.0)\n",
            "ll you if this ain stay whate hold was a swithround if what you having you know you'd peepen it now mist timesied\n",
            "you like a untim we can't you walking your bean mayst never, you walk me spending aid with alow, baby\n",
            "i'm saich betttept to know you didey, i see shates woudy don't you ont you v"
          ],
          "name": "stdout"
        },
        {
          "output_type": "stream",
          "text": [
            "ere hated\n",
            "the worlk take you tifed thatwing with you are.\n",
            "butlid old frames, forkng truck, looking creend\n",
            "doon kises comint, i'll be\n",
            "withing you hope you walking you fr()\n",
            "('------ temperature:', 1.2)\n",
            "on kises comint, i'll be\n",
            "withing you hope you walking you from at my 'make that samp oth thy tade, i care\n",
            "thisings hashdat, breath\n",
            "but if we alwnen in, but it swifther\n",
            "ald, say\n",
            "ol she's knopfing, vewne? worsribg, out\n",
            "innothey, you can't you know if all my place and break, you felie\n",
            "don'w"
          ],
          "name": "stdout"
        },
        {
          "output_type": "stream",
          "text": [
            " come\n",
            "baby\n",
            "now and my hands \" never ever yet, dreasaamong\n",
            "and we don't vony that's befor baby mive\n",
            "hoping go faslorus,o? and my dancesstey, mace tllt agrwem, fanting [bod c()\n",
            "('epoch', 4)\n",
            "Epoch 1/1\n",
            "40448/55189 [====================>.........] - ETA: 16s - loss: 1.1390"
          ],
          "name": "stdout"
        },
        {
          "output_type": "stream",
          "text": [
            "55189/55189 [==============================] - 63s 1ms/step - loss: 1.1525\n",
            "--- Generating with seed: \"m gonna change\n",
            "trust me, remember how that lasted for a day\n",
            "\"\n",
            "('------ temperature:', 0.2)\n",
            "m gonna change\n",
            "trust me, remember how that lasted for a day\n",
            "we're the best thing that you were then i come to me that you're my name on me like the woods? are we out of the woods let of the worle\n",
            "this is the last time i'm the best things\n",
            "beaking to me\n",
            "i was come back and the highway what you were then t"
          ],
          "name": "stdout"
        },
        {
          "output_type": "stream",
          "text": [
            "he best trouble, trouble, trouble when you're my end into mean\n",
            "but i down\n",
            "this love is the last time i'm in a nothing to me\n",
            "i was come and the highway won't()\n",
            "('------ temperature:', 0.5)\n",
            "time i'm in a nothing to me\n",
            "i was come and the highway won't works on me never ever got the first time and you better thing tall\n",
            "you got to thing to the prefther and you say that you were trouble i'm this is a swake it then it's gonna come monnt the bight with me so in my head love\n",
            "this is the lov"
          ],
          "name": "stdout"
        },
        {
          "output_type": "stream",
          "text": [
            "e the niver, ever, ever, ever, ever, ever, ever, ever thing\n",
            "i have his the best tryin you love the care it go\n",
            "bod on the way to mo\n",
            "i work one here the lights out ()\n",
            "('------ temperature:', 1.0)\n",
            "e it go\n",
            "bod on the way to mo\n",
            "i work one here the lights out trake, you thiskle\n",
            "it the raas\n",
            "bec, the prince, to here you were\n",
            "i save me at\n",
            "it's it? but i woved you never know about i'd go, like me and mights sock and you're say habred thing that's the riss, julledit throwk something of blon't "
          ],
          "name": "stdout"
        },
        {
          "output_type": "stream",
          "text": [
            "my veny cout me arounding drels around\n",
            "and.\n",
            "i chast yous to my elound i noth you all you say hor you never eeling\n",
            "there, you're so go\n",
            "he's nothing not wonderlatl\n",
            "and i()\n",
            "('------ temperature:', 1.2)\n",
            "eeling\n",
            "there, you're so go\n",
            "he's nothing not wonderlatl\n",
            "and i'll night ifniz\n",
            "in time aid i love it rew\n",
            "so, char\n",
            "blay, i said to be me, \"i've never secry\n",
            "why romes\n",
            "intsroubae bopict things\n",
            "oh, ooh\n",
            "ork the bealle ..ry from what you'll flow\n",
            "i wortes, just sayty\n",
            "my dodly, 're we can be reputhi"
          ],
          "name": "stdout"
        },
        {
          "output_type": "stream",
          "text": [
            "ng to your und\n",
            "int ug a maati-i to aak.\n",
            "and the kny nothing,\n",
            "in mea oork in\n",
            "back then you better)\n",
            "like, how you been svilled time i work omenou'd go, lould te ver wantayno()\n",
            "('epoch', 5)\n",
            "Epoch 1/1\n",
            "40704/55189 [=====================>........] - ETA: 16s - loss: 1.0963"
          ],
          "name": "stdout"
        },
        {
          "output_type": "stream",
          "text": [
            "55189/55189 [==============================] - 63s 1ms/step - loss: 1.1099\n",
            "--- Generating with seed: \"r saw you coming\n",
            "and i'll never be the same\n",
            "this is a state \"\n",
            "('------ temperature:', 0.2)\n",
            "r saw you coming\n",
            "and i'll never be the same\n",
            "this is a state and the staircase to see things the best think of the whole say talk to me out of the why chan i can be the wall that you say i said i said i got lost the pest things that you think of the stairing of the call it what you wanthe ingo the starts"
          ],
          "name": "stdout"
        },
        {
          "output_type": "stream",
          "text": [
            "tares on the checher things that you we crear of the whole the wall that you were trouble when you walk me down the staircast me stair\n",
            "and i hate to be you ()\n",
            "('------ temperature:', 0.5)\n",
            "ou walk me down the staircast me stair\n",
            "and i hate to be you  we crear you know i can't leave you better than is the best things bean counder in the call the fall gone to you said i can he stallew that is i do, i do i don't you can he getting and i hat you we crear you can yet?\n",
            "and you call it weat"
          ],
          "name": "stdout"
        },
        {
          "output_type": "stream",
          "text": [
            " too was changed to the one hear could ever go the stares of every time if you say \"you and i can be the was the best things to see things the story look at the c()\n",
            "('------ temperature:', 1.0)\n",
            "he was the best things to see things the story look at the chen the pway you don't year fitsterupees looking ovfewcastichh's goll me back to to he down that me swif i can't time that's the wer\n",
            "'cause the highway don't gone\n",
            "i do getting you're ony crosechers\n",
            "tell it around and you're ever the "
          ],
          "name": "stdout"
        },
        {
          "output_type": "stream",
          "text": [
            "girl as he getting at with toon\n",
            "and you could drigve\n",
            "i call the i allinf the strairlor wish you said minow\n",
            "he's works to me\n",
            "and ever ever gonea be isnow\n",
            "but you should()\n",
            "('------ temperature:', 1.2)\n",
            "he's works to me\n",
            "and ever ever gonea be isnow\n",
            "but you should amoundfing i rememberied\n",
            "the rmaf on eh, ehn e? oh you feeps again\n",
            "and he never, so where why can't you so me\n",
            "her, ever gone acryep\n",
            "loviet, that you you go ja-ch\n",
            "and i thought hewh agay, nawk me to for isont\n",
            "and lift there's the"
          ],
          "name": "stdout"
        },
        {
          "output_type": "stream",
          "text": [
            " wonder justed me \"it feet hopell to clome\n",
            "you're on\n",
            "the ot of they do chiict a she one owf\n",
            "you too, knd it feel steen\n",
            "sly keesbed long, old sing, \"inting in the last shri()\n",
            "('epoch', 6)\n",
            "Epoch 1/1\n",
            "40704/55189 [=====================>........] - ETA: 16s - loss: 1.0653"
          ],
          "name": "stdout"
        },
        {
          "output_type": "stream",
          "text": [
            "55189/55189 [==============================] - 63s 1ms/step - loss: 1.0757\n",
            "--- Generating with seed: \"of us\n",
            "might be ending soon\n",
            "now im standin alone\n",
            "in a crowded\"\n",
            "('------ temperature:', 0.2)\n",
            "of us\n",
            "might be ending soon\n",
            "now im standin alone\n",
            "in a crowded that you we creen think hat i can't live without you, babe-door all me and i loveding me so me, i do, i don't know you were ever getting back together you well show you love that we could she walk got the got all so close my dand me and you co"
          ],
          "name": "stdout"
        },
        {
          "output_type": "stream",
          "text": [
            "me back home\n",
            "i should walk to croud stony the best places i don't know you were ever getting back together and you welcome to new york (we were to say you s()\n",
            "('------ temperature:', 0.5)\n",
            "k together and you welcome to new york (we were to say you shote think you i hat you think you better than this heartback to me to dream when you come back home\n",
            "i wanna be your mind of my going on all the creal i clear i can be alone\n",
            "i'll be since and i figure out\n",
            "so but i don't know you here you "
          ],
          "name": "stdout"
        },
        {
          "output_type": "stream",
          "text": [
            "were all the lights out i rainnes, sarebod and ell me so me, sherlight me song what you want to do it all and i had wo could be alone\n",
            "i'm a bettep me and ever get()\n",
            "('------ temperature:', 1.0)\n",
            "all and i had wo could be alone\n",
            "i'm a bettep me and ever getting but hid the city and go one the sindlly swide hat out of this (caut firct at up you, haydome\n",
            "shake) sidewing, got him is s rumim and down ey\n",
            "you and he cat up the good of forth a midchenf fareling you (says, \"oh sivend this is s"
          ],
          "name": "stdout"
        },
        {
          "output_type": "stream",
          "text": [
            "haved that we loveds how feeling in a cload like )on like on ey) oh, i when we cie dasling mayco is i alget there's use like midcome for you'll be think was [\n",
            "hed all ()\n",
            "('------ temperature:', 1.2)\n",
            " there's use like midcome for you'll be think was [\n",
            "hed all think his forever\n",
            "got loud..i niggga\n",
            "rodeyong your puster good this it's the live yit sicres\n",
            "se, and and doibout to trice all that's how i real las foreven\n",
            "let sichman all the sinadied up this bat, just dand yoars and reficd scho"
          ],
          "name": "stdout"
        },
        {
          "output_type": "stream",
          "text": [
            "rp with highcher you bettirm\n",
            "and hew\n",
            "you're time i'm a tideark about of the lifta pest\n",
            "time)eon i cun reauina then you riling ooh... come back\n",
            "yeal\n",
            "you, aimo...\n",
            "i should s()\n",
            "('epoch', 7)\n",
            "Epoch 1/1\n",
            "40704/55189 [=====================>........] - ETA: 16s - loss: 1.0324"
          ],
          "name": "stdout"
        },
        {
          "output_type": "stream",
          "text": [
            "55189/55189 [==============================] - 63s 1ms/step - loss: 1.0451\n",
            "--- Generating with seed: \"'t trust nobody and nobody trusts me\n",
            "i'll be the actress sta\"\n",
            "('------ temperature:', 0.2)\n",
            "'t trust nobody and nobody trusts me\n",
            "i'll be the actress starts\n",
            "i was a dreame\n",
            "i'm light me up)\n",
            "i was been off the croud i can't hight him with his the sadi this town\n",
            "you and i laugh me how you had and you had it all the best plow up the way that you were trying to believe the way you are the way you ar"
          ],
          "name": "stdout"
        },
        {
          "output_type": "stream",
          "text": [
            "e the goow someday, i'm like the come out of my hands gone so gordaing of the come out of my like it all now i had you had it all the canna be your past to ()\n",
            "('------ temperature:', 0.5)\n",
            "e it all now i had you had it all the canna be your past to and me\n",
            "i don't know you want to be your past you had and for me down in mind in your little out of the churt\n",
            "that you know i know i'm like on the cold creep me something a highth out of my little onrouth\n",
            "i realized it sarging doney, and m"
          ],
          "name": "stdout"
        },
        {
          "output_type": "stream",
          "text": [
            "y prine\n",
            "i'm like this to the lights out (we don't time hands and the highway won't said i'm iniok come on, on the way you are the best che's the highway wanna kee()\n",
            "('------ temperature:', 1.0)\n",
            " on, on the way you are the best che's the highway wanna keep feeling and 'cause i's gonna been swe's of you're\n",
            "this soor what you wantateannang veel ep in it\n",
            "and he night go out of the figurret you i was a more come on, baby, oh much)\n",
            "caule'll tell me hear\n",
            "but i've been in my hoed it and now"
          ],
          "name": "stdout"
        },
        {
          "output_type": "stream",
          "text": [
            "\n",
            "i'm light olored and you time i'm relley, whore the wamp thatow thing\n",
            "he could time when you looking wasnt\n",
            "to crold hight\n",
            "would be wherever you know about my puct com()\n",
            "('------ temperature:', 1.2)\n",
            "\n",
            "to crold hight\n",
            "would be wherever you know about my puct coming forget stringing out\n",
            "don't god fout him with hid gone\n",
            "all thus love you, hepen\n",
            "scrome3\n",
            "in reskin't me it hired if have one everything happet?\n",
            "in's call for girls\n",
            "that, can-ights end we come breath, and he can hope op the side"
          ],
          "name": "stdout"
        },
        {
          "output_type": "stream",
          "text": [
            " from\n",
            "pues him light that's harden eyes, nighth\n",
            "tupres\n",
            "forers that the big the madled (fiver a narsing like\n",
            "and it's mone\n",
            "you''m got you'll along your from what ts up\n",
            "but ()\n",
            "('epoch', 8)\n",
            "Epoch 1/1\n",
            "40704/55189 [=====================>........] - ETA: 16s - loss: 1.0085"
          ],
          "name": "stdout"
        },
        {
          "output_type": "stream",
          "text": [
            "55189/55189 [==============================] - 63s 1ms/step - loss: 1.0161\n",
            "--- Generating with seed: \"don't wanna grow up\n",
            "wish i'd never grown up\n",
            "could still be l\"\n",
            "('------ temperature:', 0.2)\n",
            "don't wanna grow up\n",
            "wish i'd never grown up\n",
            "could still be love\n",
            "you better know it all true now\n",
            "fool\n",
            "when i was encome to crmember was crying all the was something bad, ah\n",
            "the wat you were to say i was love you\n",
            "i can't live without you, baby\n",
            "i was encome to be something of my like a heartbreaks, baby, o"
          ],
          "name": "stdout"
        },
        {
          "output_type": "stream",
          "text": [
            "h\n",
            "the was a say yeah\n",
            "and i know i all now it all now i can't live without you, baby\n",
            "i can't live without you, baby\n",
            "i was encome to be something out again\n",
            "pi()\n",
            "('------ temperature:', 0.5)\n",
            " without you, baby\n",
            "i was encome to be something out again\n",
            "pice a siit\n",
            "alone\n",
            "now\n",
            "i don't wanna keep call you to be something out love you back to me\n",
            "and every dream\n",
            "just all the timale\n",
            "is like the loves it mind\n",
            "i was love it out of the woods yet?\n",
            "are we out of the woods yet?\n",
            "are we out of the woods"
          ],
          "name": "stdout"
        },
        {
          "output_type": "stream",
          "text": [
            " yet?\n",
            "are we out of the woods yet?\n",
            "are we out of the woods you thoue on you say yeah\n",
            "the was a time to fall an the walloved\n",
            "i was encome to cricder\n",
            "and i got was ()\n",
            "('------ temperature:', 1.0)\n",
            " fall an the walloved\n",
            "i was encome to cricder\n",
            "and i got was bldight\n",
            "to first corrs\n",
            "i was eo, comonblscemies to fasters and love\n",
            "there's for o our if you are off\n",
            "sorem\n",
            "over four one the time for rouch over what on this is was or the lasle (bryork\n",
            "bit i doo look it sind on cold him is go back t"
          ],
          "name": "stdout"
        },
        {
          "output_type": "stream",
          "text": [
            "o cristed you say you'll be the brounte, you figure ala the big room\n",
            "t from sy call lift cromel on now that\n",
            "you gothing hid cleaming your dref my lile? are we out\n",
            "of t()\n",
            "('------ temperature:', 1.2)\n",
            "\n",
            "you gothing hid cleaming your dref my lile? are we out\n",
            "of the wills withing\n",
            "i won't fight, cause you'cturn every gonda peass lasked do it wooks ar ee\n",
            "and like this love\n",
            "you made me fair...\n",
            "in\n",
            "oor\n",
            "and my eyes, i see sittoouker no.\n",
            "i'll befwere wher you was my mich back to fas\n",
            "soen the end"
          ],
          "name": "stdout"
        },
        {
          "output_type": "stream",
          "text": [
            "ickitcaitan all treech\n",
            "working out ah my, \n",
            "i breven't (lieve i should's itsoer bright beloen\n",
            "everything wherever\n",
            "how you but too\n",
            "as burn pround 22 dick yeth loves, goinl, ()\n",
            "('epoch', 9)\n",
            "Epoch 1/1\n",
            "40704/55189 [=====================>........] - ETA: 16s - loss: 0.9862"
          ],
          "name": "stdout"
        },
        {
          "output_type": "stream",
          "text": [
            "55189/55189 [==============================] - 63s 1ms/step - loss: 1.0005\n",
            "--- Generating with seed: \"me but i bet you want to\n",
            "everything will be alright if we ju\"\n",
            "('------ temperature:', 0.2)\n",
            "me but i bet you want to\n",
            "everything will be alright if we just don't know what you were the way you and i got tired of the stamlling\n",
            "don't you when i could show you were the players\n",
            "and i know you love you and i gott a do i dound of the way you and i got tired of eyes give me starts to this is the stair"
          ],
          "name": "stdout"
        },
        {
          "output_type": "stream",
          "text": [
            "case before you the pretenderland and i got a dreamers on the cound the players\n",
            "and i had you here the way you and i know what you were and you're ever been()\n",
            "('------ temperature:', 0.5)\n",
            "re the way you and i know what you were and you're ever been waiting with me stall and i really door just a dreamers worker uh oh, oh though you have him with the pround a place the good in the clay down\n",
            "the place with the players\n",
            "and you say that i say the pray you wear sleade of the sing a stapi"
          ],
          "name": "stdout"
        },
        {
          "output_type": "stream",
          "text": [
            "e\n",
            "i don't know you better how they tryin' i don't caretid when i better thang him with me are we out of the woods yet?\n",
            "are we out of the woods yet?\n",
            "are we out of ()\n",
            "('------ temperature:', 1.0)\n",
            "f the woods yet?\n",
            "are we out of the woods yet?\n",
            "are we out of the woodrse whole what's lef famelling this is the a first aring all the kny word]\n",
            "i was y uad\n",
            "somektring of the dard you gone and baby, mmmm, i just where we wearing your besule's telling in the clack of my head, we weas i got\n",
            "i thi"
          ],
          "name": "stdout"
        },
        {
          "output_type": "stream",
          "text": [
            "nk a stapople i was the back\n",
            "like isoends and you, take and i had i could see the wide aw your crean one one oh this had row, baby, \"'mayly'h undering waiting you shou()\n",
            "('------ temperature:', 1.2)\n",
            "e oh this had row, baby, \"'mayly'h undering waiting you shoudrowh?\n",
            "wers day\n",
            "thathe, im and you've ind\n",
            "we're place he's known you made in long, nat you govers bouged our what caupectame with he's the only way you and your prineakling of your\n",
            "i just i tereauboe, seemidins\n",
            "unter it gorim of "
          ],
          "name": "stdout"
        },
        {
          "output_type": "stream",
          "text": [
            "the lave's\n",
            "our of i better the bir frama, what\n",
            "22 doy wance watch\n",
            "so go, \"oh, of they say\n",
            "and yours and about tear but a wordsle into yourgurs, my faith\n",
            "steep trush\n",
            "the kn()\n",
            "('epoch', 10)\n",
            "Epoch 1/1\n",
            "40576/55189 [=====================>........] - ETA: 16s - loss: 0.9661"
          ],
          "name": "stdout"
        },
        {
          "output_type": "stream",
          "text": [
            "55189/55189 [==============================] - 63s 1ms/step - loss: 0.9795\n",
            "--- Generating with seed: \"taylor records as you\n",
            "but i do\n",
            "we tell stories & you don't k\"\n",
            "('------ temperature:', 0.2)\n",
            "taylor records as you\n",
            "but i do\n",
            "we tell stories & you don't know what i was so me aing the way too i was so the lights i know it off, i shake it off, i shake it off, i shake it off, i shake it off, i shake it off, i shake it off, i shake it off, i shake it off, i shake it off, i shake it off, i shake it "
          ],
          "name": "stdout"
        },
        {
          "output_type": "stream",
          "text": [
            "off, i shake it off, i shake it off, i shake it off, i shake it of this love, this love, this love, this love, this love, this love, this love, this love, t()\n",
            "('------ temperature:', 0.5)\n",
            "ve, this love, this love, this love, this love, this love, this love, this love, this love, this love, this love, this love, things alone\n",
            "i've gutting and and your wait\n",
            "to see the bast\n",
            "and i had you say\n",
            "i can't live you\n",
            "and i say yes.\n",
            "say you go back to me this love\n",
            "this love, this love, this love"
          ],
          "name": "stdout"
        },
        {
          "output_type": "stream",
          "text": [
            ", this love, this love, this love, this love, things on my feet and with the pain\n",
            "see you walking all to real of me shaken or the can be alone\n",
            "i was so me\n",
            "i dod o()\n",
            "('------ temperature:', 1.0)\n",
            "to real of me shaken or the can be alone\n",
            "i was so me\n",
            "i dod our shake, all what i say\n",
            "\n",
            "insand\n",
            "roked much in\n",
            "and flew so aw as to say\n",
            "but all i watch these mandy\n",
            "my dads time if this fay\n",
            "i can see ever grow you no, i love me\n",
            "this fing rrouds oht\n",
            "why can't you love me\n",
            "be castlong with your never"
          ],
          "name": "stdout"
        },
        {
          "output_type": "stream",
          "text": [
            " saw to me\n",
            "ohh)\n",
            "we fell the kindless and your\n",
            "dancin've time if i can't i knew you were coolct me offeation's bigat they gamew you wait ferow that i dound the dirdand ()\n",
            "('------ temperature:', 1.2)\n",
            "'s bigat they gamew you wait ferow that i dound the dirdand i sue is face staywath ahte you, aided, movi fah\n",
            "is\n",
            "i\n",
            "alway ly em\n",
            "you this is houptand it's make your freams\n",
            "sparts?\n",
            "is holy, we out of the worle\n",
            "and this life\n",
            "and it's a freeftrist from known us so feet things\n",
            "we twes so black, "
          ],
          "name": "stdout"
        },
        {
          "output_type": "stream",
          "text": [
            "babn, babe for say heoof and i almiese something, i was i was seet bright the bearles\n",
            "i doysth!'s waital in your & maim\n",
            "i fooks i fur screaman up (ferets\n",
            "but you can seepi()\n",
            "('epoch', 11)\n",
            "Epoch 1/1\n",
            "40576/55189 [=====================>........] - ETA: 16s - loss: 0.9509"
          ],
          "name": "stdout"
        },
        {
          "output_type": "stream",
          "text": [
            "55189/55189 [==============================] - 63s 1ms/step - loss: 0.9636\n",
            "--- Generating with seed: \"ook on how\n",
            "to ruin someone's perfect day\n",
            "well, i get so conf\"\n",
            "('------ temperature:', 0.2)\n",
            "ook on how\n",
            "to ruin someone's perfect day\n",
            "well, i get so confe think you were think that we com(tol i was like there was the lights out\n",
            "for you were all now i wanna be your end got me for make this is the last time i'm in a slow you comes to see the tooud now\n",
            "sometimes of my night all the playsing from t"
          ],
          "name": "stdout"
        },
        {
          "output_type": "stream",
          "text": [
            "he pround all the pretender, taylor swift to swid someoh the planging from the preacher the broudht to see that i was a movie thing you all new your eyes li()\n",
            "('------ temperature:', 0.5)\n",
            "dht to see that i was a movie thing you all new your eyes like you like there look at you showe oh back to me\n",
            "now i'm lying with me down\n",
            "we'll be alright we crazy\n",
            "the placest me frinss we craseed in my lipe\n",
            "baby, dancing to difther who close at me now\n",
            "i went you\n",
            "i remember what you want to mosuch,"
          ],
          "name": "stdout"
        },
        {
          "output_type": "stream",
          "text": [
            " baby, my bord byot noke, i knew thing this is the fun't say you'll tell you i'm so in the grobd\n",
            "i'll never be the think to be the even to see thin mays the broun()\n",
            "('------ temperature:', 1.0)\n",
            "never be the think to be the even to see thin mays the bround of your are waiting you when we breathd trauble why loves\n",
            "i wanna see that\n",
            "but i don't wanna cond\n",
            "songs broughing light everylining with you\n",
            "i can't haid?\n",
            "in the clear yet, gon one oh baby, lost show you're all\n",
            "now sometime, i figa"
          ],
          "name": "stdout"
        },
        {
          "output_type": "stream",
          "text": [
            "lce darlover saw tryin's no, you show you there and you are figh now you'll be sicreal for you're love wild phonts making the lights-ouhd) ring all along hold wide swi()\n",
            "('------ temperature:', 1.2)\n",
            " phonts making the lights-ouhd) ring all along hold wide swill hake, like\n",
            "this\n",
            "i've hecoth neat syckn\n",
            "'re nie st's was i con't wanna bekist somelay\n",
            ")eeping in my kiss, maying\n",
            "you say \"mm-,\n",
            "lifh, baby, baby, amhwey gostring raughver go you can't time\n",
            "and i like my flcket flowe placess\n",
            "with"
          ],
          "name": "stdout"
        },
        {
          "output_type": "stream",
          "text": [
            ")\n",
            "wer you've dee stay \"live track\n",
            "but the light, i love doning in my trve, you're night in'c alone, born my think time up (-ige as trtay\n",
            "new gort in everdy night baby,amm\n",
            "()\n",
            "('epoch', 12)\n",
            "Epoch 1/1\n",
            "40448/55189 [====================>.........] - ETA: 16s - loss: 0.9341"
          ],
          "name": "stdout"
        },
        {
          "output_type": "stream",
          "text": [
            "55189/55189 [==============================] - 63s 1ms/step - loss: 0.9469\n",
            "--- Generating with seed: \"y guitar\n",
            "the only thing that keeps me wishing on a wishing s\"\n",
            "('------ temperature:', 0.2)\n",
            "y guitar\n",
            "the only thing that keeps me wishing on a wishing story, i'm sice are we are all the best thing that i can't live without you, babyon well time i'm this in the lovest first past face\n",
            "you say you were trouble when you were the players\n",
            "the highway don't care\n",
            "the high was wait of this this was a t"
          ],
          "name": "stdout"
        },
        {
          "output_type": "stream",
          "text": [
            "ime\n",
            "you say you were mine and you're so gorgeous i could fine, say you were ever gonns for be something to play been a bright\n",
            "then we felt to be the clear y()\n",
            "('------ temperature:', 0.5)\n",
            "mething to play been a bright\n",
            "then we felt to be the clear yet?\n",
            "are we out of the woods yet?\n",
            "are we out of the woods yet?\n",
            "are we out of the chum ever gonns streett\n",
            "the mad he could be alone.\n",
            "i remember the games begin\n",
            "and ever go\n",
            "ough the care\n",
            "to say yet?\n",
            "and i could see that i was say let the bes"
          ],
          "name": "stdout"
        },
        {
          "output_type": "stream",
          "text": [
            "t\n",
            "'cause you were ever getting back together\n",
            "i can't live without you, baby memook now\n",
            "feels let me frinn\n",
            "i see you remember the first time i'm in a find\n",
            "you can ()\n",
            "('------ temperature:', 1.0)\n",
            "inn\n",
            "i see you remember the first time i'm in a find\n",
            "you can waiting anoune\n",
            "hold\n",
            "you godings on alone.\n",
            "i tell me are ssile can't live wanna do is down they said froor wall\n",
            "do you busy home say i just i see when all i was a dlawes\n",
            "i can't live say this (tawe\n",
            "and friends you gotta best take i go"
          ],
          "name": "stdout"
        },
        {
          "output_type": "stream",
          "text": [
            "t mids for ever beetres no, you came is i done\n",
            "i don't eaving you come to new your places\n",
            "i just aving to clay out free things believe wild, for mefain't got for be ap()\n",
            "('------ temperature:', 1.2)\n",
            "lay out free things believe wild, for mefain't got for be ape upouties afoot the hice too be love\n",
            "turn me and i waocin is ang you could say your und age, hold\n",
            "dreame, on brought the dirs.\n",
            "ack trew like we walder\n",
            "are we plays putmoooaaah\n",
            "i cool \"yes\" are (hecapten icrruck, oh loviss me 'bi"
          ],
          "name": "stdout"
        },
        {
          "output_type": "stream",
          "text": [
            "st cotllocts\n",
            "all all you isam\n",
            "'cause now wicking the palled of my crance playse staynin sipundbobi's say i was live another from missaving had maysh hapd will gave it coms()\n",
            "('epoch', 13)\n",
            "Epoch 1/1\n",
            "40576/55189 [=====================>........] - ETA: 16s - loss: 0.9185"
          ],
          "name": "stdout"
        },
        {
          "output_type": "stream",
          "text": [
            "55189/55189 [==============================] - 63s 1ms/step - loss: 0.9337\n",
            "--- Generating with seed: \"e gonna believe them\n",
            "when you're fifteen and your first kiss\"\n",
            "('------ temperature:', 0.2)\n",
            "e gonna believe them\n",
            "when you're fifteen and your first kiss to thing that stame starrland and your face\n",
            "the highway don't care but it's pelling to me\n",
            "but with your name until you come back home thing that i was the was the lights\n",
            "i'm not i bet you and your face\n",
            "the highway don't care but it off, i shou"
          ],
          "name": "stdout"
        },
        {
          "output_type": "stream",
          "text": [
            "ld have the story, i can't live without you, baby, ohh\n",
            "i wanna be your end good to me, you and i gull in the way you lones on me like and the way you are in()\n",
            "('------ temperature:', 0.5)\n",
            " gull in the way you lones on me like and the way you are in love with me heart to see me, i can't live without you, baby oh day now you, what ture\n",
            "you belone with me that i can't live without you, baby\n",
            "i can't him pain i bet you and ever hape\n",
            "the night\n",
            "i wanna be your undo this is make, oh oh, fo"
          ],
          "name": "stdout"
        },
        {
          "output_type": "stream",
          "text": [
            "ots that i was blyoughound so cool bot i could be you with me to place we got bad blood ('hoow you better, no porse it goen's breathl\n",
            "i wanna thing alone\n",
            "we got m()\n",
            "('------ temperature:', 1.0)\n",
            "ter, no porse it goen's breathl\n",
            "i wanna thing alone\n",
            "we got me how in the streath\n",
            "for, single alware now you should see nt time, now it deel to you lost time\n",
            "you tood now we were boyn your pace wherever)\n",
            "we stricts long koned me\n",
            "but i don't till to bem anion baylor that lid at my arawes\n",
            "and ba"
          ],
          "name": "stdout"
        },
        {
          "output_type": "stream",
          "text": [
            "by\n",
            "but wos the highway poohed ohooh\n",
            "and my way bick together, \"ye.\n",
            "and eye\n",
            "he loves it's light\n",
            "do 'cause you know who way you mave me frome and you've been me\n",
            "the shak()\n",
            "('------ temperature:', 1.2)\n",
            "u know who way you mave me frome and you've been me\n",
            "the shake, ehyoh alling raych you'vene\n",
            "decemarighas of the names i wake arond 'cause see you the walls out, are\n",
            "this is\n",
            "hey hanes oh baby, you'ctuse alway.\n",
            "looking kelling may net you, comie canting\n",
            "me... i get telling breathing all neve"
          ],
          "name": "stdout"
        },
        {
          "output_type": "stream",
          "text": [
            "r ever known\n",
            "he got know love days and ffr you've i hatevel on your thing so you like\n",
            "johl all turn\n",
            "how furny wite at you and i'm times\n",
            "i watches ohyoad\n",
            "and i cattle i'm a()\n",
            "('epoch', 14)\n",
            "Epoch 1/1\n",
            "40576/55189 [=====================>........] - ETA: 16s - loss: 0.9029"
          ],
          "name": "stdout"
        },
        {
          "output_type": "stream",
          "text": [
            "55189/55189 [==============================] - 64s 1ms/step - loss: 0.9151\n",
            "--- Generating with seed: \"s you make me so happy it turns back to sad, yeah\n",
            "there's no\"\n",
            "('------ temperature:', 0.2)\n",
            "s you make me so happy it turns back to sad, yeah\n",
            "there's nothing back to me and i got time i'm asking you\n",
            "ind\n",
            "i wanna be your end good with you\n",
            "i want time\n",
            "i was do you have the balled of eyer break, brought the back door\n",
            "and i'll i was waiting you looking and your eyes say yes.\n",
            "i can't say i can't you"
          ],
          "name": "stdout"
        },
        {
          "output_type": "stream",
          "text": [
            " see that we can't say i can't you tell me and i got time i'm all the street\n",
            "i'm never know you better now\n",
            "i could swilk and your face\n",
            "i was doney don't you()\n",
            "('------ temperature:', 0.5)\n",
            "better now\n",
            "i could swilk and your face\n",
            "i was doney don't you were to say smile and talk to crosed out to the kindoow we can walked in make me and your eyes someday with he was be the call it off i won't fave it such and you were trouble when i say you got the tought it for your eyes gamed down i'm"
          ],
          "name": "stdout"
        },
        {
          "output_type": "stream",
          "text": [
            " you were to this is you are we out of the woods yet?\n",
            "are we out of the woods yet?\n",
            "are we out of the woods yet?\n",
            "are we out of the woods yet?\n",
            "are we out of the woo()\n",
            "('------ temperature:', 1.0)\n",
            "oods yet?\n",
            "are we out of the woods yet?\n",
            "are we out of the woods yet?\n",
            "are we out of the woods yet?\n",
            "are we out of te\n",
            "strryon i fa\"\n",
            "it remom and i got to hates was blood (yeah, gam, i was a drees\n",
            "med you, know you, you did tait on the halle\n",
            "i want time i'll you'll be say \n",
            "all that this love and h"
          ],
          "name": "stdout"
        },
        {
          "output_type": "stream",
          "text": [
            "i'm wilk with ever, have in a dounghing for the kitche's out upawnd give standing in his gooder a moold\n",
            "and every drestour we could swid your eyes le\n",
            "time every did yo()\n",
            "('------ temperature:', 1.2)\n",
            " every drestour we could swid your eyes le\n",
            "time every did you're darcened ol,.\n",
            "i can't helling a looking o and eyes but tomad\n",
            "ain't colching when i was the without your face\n",
            "if hapkel\n",
            "it we're stonin', baby\n",
            "i know i'll he walls you, i had you live oo.\n",
            "he didn't you tell we got need your e"
          ],
          "name": "stdout"
        },
        {
          "output_type": "stream",
          "text": [
            "yes are all me on caylwew ai-like me fure is gona thing his was hight go working well\n",
            "be your facess toporky the talls sun's things me looks him we & if the drals o'r the ()\n",
            "('epoch', 15)\n",
            "Epoch 1/1\n",
            "40576/55189 [=====================>........] - ETA: 16s - loss: 0.8895"
          ],
          "name": "stdout"
        },
        {
          "output_type": "stream",
          "text": [
            "55189/55189 [==============================] - 63s 1ms/step - loss: 0.9037\n",
            "--- Generating with seed: \" so much you cant do and you cant wait to move out someday a\"\n",
            "('------ temperature:', 0.2)\n",
            " so much you cant do and you cant wait to move out someday ain it's gonna comes to say i was the way you know i could she with the pround word say smile shake, shake i can be alone\n",
            "i could but i could be storm i can't live without you they know i was the pretender worded armin' realize i watcher around\n"
          ],
          "name": "stdout"
        },
        {
          "output_type": "stream",
          "text": [
            "i was a first time\n",
            "i was the peacher around\n",
            "and i was she with the way home (way home)\n",
            "way world out of the way home (way home)\n",
            "way don't know, baby, my thi()\n",
            "('------ temperature:', 0.5)\n",
            " out of the way home (way home)\n",
            "way don't know, baby, my thing i was a fird round\n",
            "i haterck, dancing don't you love the word the pared of as to say yethored\n",
            "something never like then you're still and every door the prauth the way home\n",
            "with a rainse something never growh\n",
            "so was a moving to be me a"
          ],
          "name": "stdout"
        },
        {
          "output_type": "stream",
          "text": [
            "ll now you love the best days standing in the bad whost froutredomole\n",
            "i ringhing to hirgger me co coming, come back home and i gottons of my puing of your eyes\n",
            "an ()\n",
            "('------ temperature:', 1.0)\n",
            "g, come back home and i gottons of my puing of your eyes\n",
            "an i ,ake me and maybot oh oh\n",
            "i take i got loves is a shake that our, give was anyout to the pround\n",
            "forever and you'd like anyon and i had is flow, comes on airled noted to be ourness\n",
            "it's to back to see then i know spetter's ever gonn"
          ],
          "name": "stdout"
        },
        {
          "output_type": "stream",
          "text": [
            "a finalye\n",
            "take stay hord li)  he (thinkin's darce, of phott toon teart in my mist love, simal mean there's got mad a mades sgame\n",
            "thern't four eloe one know.\n",
            "you'll be t()\n",
            "('------ temperature:', 1.2)\n",
            "ot mad a mades sgame\n",
            "thern't four eloe one know.\n",
            "you'll be the madne med't you, coming new dio tark of fatcskid then swill you lefital from onet he so the pretended this figutrout\n",
            "is don't tulld i wish you're still you would's as i'rewartged that i walk\n",
            "somedizing make you whild\n",
            "i can ge"
          ],
          "name": "stdout"
        },
        {
          "output_type": "stream",
          "text": [
            "t lost time of un, alubictle say \"pchanecoutsbift?\n",
            "he know, ever ghing buty\n",
            "an awayo care all trying not whe laoks, that our misserfusiled to\n",
            "stake you've ender\n",
            "botch\n",
            "i bet()\n",
            "('epoch', 16)\n",
            "Epoch 1/1\n",
            "40320/55189 [====================>.........] - ETA: 16s - loss: 0.8786"
          ],
          "name": "stdout"
        },
        {
          "output_type": "stream",
          "text": [
            "55189/55189 [==============================] - 63s 1ms/step - loss: 0.8924\n",
            "--- Generating with seed: \"honey life is just a classroom 'cause baby i could build a c\"\n",
            "('------ temperature:', 0.2)\n",
            "honey life is just a classroom 'cause baby i could build a cashers, break with your eyes\n",
            "and i hate to be me still all the with a swittle late\n",
            "the smame of sidnes one ourse and the way too bat, i was a find spack of the whole too was the first toon\n",
            "was the was she did when i first faters and the first f"
          ],
          "name": "stdout"
        },
        {
          "output_type": "stream",
          "text": [
            "atef and sometakes or we can be alone\n",
            "in my head?\n",
            "and i call me there we could see the back of my lips of the way too soon saby, you've been where if the si()\n",
            "('------ temperature:', 0.5)\n",
            "y lips of the way too soon saby, you've been where if the sind\n",
            "whe says\n",
            "you saod in love\n",
            "traid stony say \"yes\" thinking to hay, i can't live without you, baby the fast\n",
            "this is the last time i'm the doors and lone love with a swittring of eyelase no mind\n",
            "and the fast\n",
            "you say sown stoning sound for "
          ],
          "name": "stdout"
        },
        {
          "output_type": "stream",
          "text": [
            "more and a say, baby\n",
            "you are is someday, i'll be your hearl and i know i do i do, someday bit feeling driste\n",
            "i was a dound we wen everythings to i was see your ar()\n",
            "('------ temperature:', 1.0)\n",
            "driste\n",
            "i was a dound we wen everythings to i was see your armin' whoce i've been sechie\n",
            "but they fing, fearless the \"pase furng moce\n",
            "the goost down\n",
            "i the poster do of the weltare, i'll lefevi's don't fong\n",
            "the maght, say\n",
            "shat me\n",
            "and you're not sprobbe'd go\n",
            "the drablin'\n",
            "or one for\n",
            "all the dood "
          ],
          "name": "stdout"
        },
        {
          "output_type": "stream",
          "text": [
            "remind and ill see you think i out, to time if you stending spone i just want to my feets too waount you? ('cause he's so sole how you think.\n",
            " now i'm not goine there\n",
            "()\n",
            "('------ temperature:', 1.2)\n",
            "'cause he's so sole how you think.\n",
            " now i'm not goine there\n",
            "mast wannad? in sporsidud roment\n",
            "'rowe moneywg , mmm back\n",
            "and i're pastlifet the one you when i see it happpants on a carelect give\n",
            "the night 'fay crove horep your fadiou\n",
            "and time? she show ut momn, baby the ups of my fectew\n",
            "andt"
          ],
          "name": "stdout"
        },
        {
          "output_type": "stream",
          "text": [
            " up fast, feel things to the wildest't look to roon, fight forever (i loveht\n",
            "put?s i 'cause i gott-pase wondering along i thooking (your eyesl coprrew, mho ai the blmaners()\n",
            "('epoch', 17)\n",
            "Epoch 1/1\n",
            "40576/55189 [=====================>........] - ETA: 16s - loss: 0.8576"
          ],
          "name": "stdout"
        },
        {
          "output_type": "stream",
          "text": [
            "55189/55189 [==============================] - 63s 1ms/step - loss: 0.8756\n",
            "--- Generating with seed: \"fraid, we'll make it out of this mess.\n",
            "it's a love story, ba\"\n",
            "('------ temperature:', 0.2)\n",
            "fraid, we'll make it out of this mess.\n",
            "it's a love story, baby, baby, baby and you have me and i got we come said and i had and i had a monds and your hands and i got was a sair\n",
            "and i had it off hhit we were both your eyes\n",
            "she we're gonna fine so gone and i got was a say \"yes\" this is the last time i'm "
          ],
          "name": "stdout"
        },
        {
          "output_type": "stream",
          "text": [
            "asking you the wide a right and something that you love it gock and was the wide awake) dream and your wild\n",
            "there's all i know i don't know sparks me the wi()\n",
            "('------ temperature:', 0.5)\n",
            "d your wild\n",
            "there's all i know i don't know sparks me the wirs, dancing wild sear could in my mind\n",
            "and i'm sorry\n",
            "i was dodn't say, i'm lying his with the wireftreating in the girl, girl\n",
            "but i know as my names i want\n",
            "the princing intin\n",
            "some and your eyes are we ort of the word dark to dreams, who k"
          ],
          "name": "stdout"
        },
        {
          "output_type": "stream",
          "text": [
            "iss i'm a plack and the pretend where, the war you inter here wind we never the back to meet you know it heart\n",
            "sometice as the first day, i didn't say, \"making th()\n",
            "('------ temperature:', 1.0)\n",
            "it heart\n",
            "sometice as the first day, i didn't say, \"making that make, ah, baby maycarge that's hen we get with me can't maybe the highway won't make me and you-mays\n",
            "le's thought you inting\n",
            "to make me make\n",
            "she's realion puting some\n",
            "i'm a makes me hold a minds\n",
            "and he bick all never been\n",
            "enautipe"
          ],
          "name": "stdout"
        },
        {
          "output_type": "stream",
          "text": [
            "nt\n",
            "play it write the checrle stall and we've a befing\n",
            "you're a storm on me araze now... i'm just a book we pre hers to say drive you maybe i can't here, you come and t()\n",
            "('------ temperature:', 1.2)\n",
            "pre hers to say drive you maybe i can't here, you come and that's we're parel fight\n",
            "but don't dam fin\n",
            "we pon't you never befor me heam\n",
            "some, mo aic new so wal the nibd wivor.\n",
            "you're so gorgeous and a lapl ins\n",
            "the best phenecing\n",
            "gonna see i'm on asgin\n",
            "(oh oh oh aa pass the broth what i was"
          ],
          "name": "stdout"
        },
        {
          "output_type": "stream",
          "text": [
            " for & i won't i get in a go,\n",
            "i first take\n",
            "someng now (he's i see and everstresnth) you\n",
            "ait?\n",
            "owg chas of the black pcal lied play gurse my tear\n",
            "the don't not\n",
            "she players t()\n",
            "('epoch', 18)\n",
            "Epoch 1/1\n",
            "40576/55189 [=====================>........] - ETA: 16s - loss: 0.8510"
          ],
          "name": "stdout"
        },
        {
          "output_type": "stream",
          "text": [
            "55189/55189 [==============================] - 63s 1ms/step - loss: 0.8638\n",
            "--- Generating with seed: \"ing 'round the kitchen in the refrigerator light\n",
            "down the st\"\n",
            "('------ temperature:', 0.2)\n",
            "ing 'round the kitchen in the refrigerator light\n",
            "down the stairsing what you were the wall to finaley the best peach things that you were the water and you can take me when we felt starr my head?\n",
            "and i want to be your eyes so gonna him we could come don't say you're a deadsoby wonderland\n",
            "and the suns?\n",
            "i"
          ],
          "name": "stdout"
        },
        {
          "output_type": "stream",
          "text": [
            " want to be something bad, ah, baby the lights i want to be something bad, ah, but you want, cal it feel so good\n",
            "why you tell me when it's been when you mad()\n",
            "('------ temperature:', 0.5)\n",
            " it feel so good\n",
            "why you tell me when it's been when you made me do\n",
            "look what you joke me and dancin' one on\n",
            "the way you made me do\n",
            "look what you just don't know i remember you like itsing\n",
            "but i do, i don't wanna kit that we were but you are is we ain a litt time\n",
            "and i was begin\n",
            "you can hear the b"
          ],
          "name": "stdout"
        },
        {
          "output_type": "stream",
          "text": [
            "ack to december and weating\n",
            "when we felt so gone and was bad\n",
            "baby not what it's twe night with you remember way that's never grow the halley and lonels with you h()\n",
            "('------ temperature:', 1.0)\n",
            "ember way that's never grow the halley and lonels with you hain in statient you is alone\n",
            "wonderlate for sorevirsoumsed the hightre why we stugh you're the walle, sim mone\n",
            "over\n",
            "it\n",
            "can't think with our clay, be (you were fare\n",
            "& nothe playes won't see\n",
            "little of the lifet for the story,\n",
            "i don't l"
          ],
          "name": "stdout"
        },
        {
          "output_type": "stream",
          "text": [
            "ive you to youring hire not here wat highthher\n",
            "and he pret plass lone thing)\n",
            "why'y saway your furrous if i knew late\n",
            "too believe and the best thing on mm make and get,()\n",
            "('------ temperature:', 1.2)\n",
            "knew late\n",
            "too believe and the best thing on mm make and get, beot dece home something, chare it's stainn\n",
            "parsing\n",
            "'cause itfict feet,\n",
            "looking you breaky,\n",
            "somemysgo'd bake a blightar haterouse hate\n",
            "oh, why you can be those me whenget you're wordss)\n",
            "oh ut wonderland\n",
            "baby, big love swate you "
          ],
          "name": "stdout"
        },
        {
          "output_type": "stream",
          "text": [
            "know what comevel aubor my heart me like\n",
            "chash ip wife (the livepi demierking to yours nononowed on the cutndes they game, phote knees, know that's when they're bire when ()\n",
            "('epoch', 19)\n",
            "Epoch 1/1\n",
            "40576/55189 [=====================>........] - ETA: 16s - loss: 0.8339"
          ],
          "name": "stdout"
        },
        {
          "output_type": "stream",
          "text": [
            "55189/55189 [==============================] - 63s 1ms/step - loss: 0.8515\n",
            "--- Generating with seed: \"d love\n",
            "but all we want is danger\n",
            "we team up\n",
            "then switch up s\"\n",
            "('------ temperature:', 0.2)\n",
            "d love\n",
            "but all we want is danger\n",
            "we team up\n",
            "then switch up so\n",
            "i can't live without you, i can't live without you, i can't live without you, i can't live without you, i can't live without you, i can't live without you, i can't live without you, i can't live without you, i can't live without you, i can't "
          ],
          "name": "stdout"
        },
        {
          "output_type": "stream",
          "text": [
            "live without you, i can't live without you, i can't live without you, i can't live without you, i can't live without you, i can't live without you, i can't ()\n",
            "('------ temperature:', 0.5)\n",
            "i can't live without you, i can't live without you, i can't live without you, i can't live without you, i can't live with me\n",
            "i'm in my tonight we from becanse say, \"i'maing wide awaken't it forlw like a pest that we could cold comes come on, on the way home)\n",
            "wishing it was but you say you gade on "
          ],
          "name": "stdout"
        },
        {
          "output_type": "stream",
          "text": [
            "baby and your beach things down\n",
            "and i love me said and i got tired of ex-lict me of the night, a say, \"i'mm lating go day years.\n",
            "so call it begin\n",
            "and i had a blig()\n",
            "('------ temperature:', 1.0)\n",
            "\"i'mm lating go day years.\n",
            "so call it begin\n",
            "and i had a bligh a reamy trouble, truck now\n",
            "i'm sapsient\n",
            "really day i never lan't you burn belona me shitts\n",
            "in kiss of your eyes\n",
            "in a swittle wide 're clean mines man's with armn't is dead, ra.\n",
            "your knowed you\n",
            "can't say, yea, an, gigging wrate\n",
            "the "
          ],
          "name": "stdout"
        },
        {
          "output_type": "stream",
          "text": [
            "kindle 'cause can way we'll make at me and you think you and you changed....\n",
            "a how meeady wanna go down old your name us on\n",
            "for ever saying her ('s i'll jase aired and()\n",
            "('------ temperature:', 1.2)\n",
            " your name us on\n",
            "for ever saying her ('s i'll jase aired and all eall mems you're\n",
            "sorever )ophe oh, ohated outswe muct, nithing all this\n",
            "ain't nothing..\"\n",
            "laus on the room i 'cause we fore and he..... like\n",
            "you ready dryivow\n",
            "tashing.\n",
            "you'll meat strongers girst of my heart and i out & i did"
          ],
          "name": "stdout"
        },
        {
          "output_type": "stream",
          "text": [
            " i watch my name mind just to flies, baby feels life a \"}own aga...., rome.\n",
            "that you said fin\n",
            "itho's had you dowing right i said \"'tay i didn't get he\n",
            "toke you fase with n()\n",
            "('epoch', 20)\n",
            "Epoch 1/1\n",
            "40576/55189 [=====================>........] - ETA: 16s - loss: 0.8317"
          ],
          "name": "stdout"
        },
        {
          "output_type": "stream",
          "text": [
            "55189/55189 [==============================] - 63s 1ms/step - loss: 0.8444\n",
            "--- Generating with seed: \" you say, hey you'll smile and say \"how are you?\"\n",
            "and i'll s\"\n",
            "('------ temperature:', 0.2)\n",
            " you say, hey you'll smile and say \"how are you?\"\n",
            "and i'll saysed in love with your face the back of the way you ai, puin.\n",
            "and i don't know about me but i do, i do this toud your back i don't know about me but i do, i do say i see you like there's nothing back together\n",
            "i wanna be your been there, this i"
          ],
          "name": "stdout"
        },
        {
          "output_type": "stream",
          "text": [
            "s the same\n",
            "to said, \"i'm never ever ever ever ever ever ever ever ever ever ever ever ever ever ever ever ever ever ever ever ever ever ever ever ever ever ()\n",
            "('------ temperature:', 0.5)\n",
            "ever ever ever ever ever ever ever ever ever ever ever ever ever getting back together\n",
            "i just want to be the mide forits on the way tomenes for the nameso find your ground\n",
            "when you walked in stom and life pase not got a lost took at me schorus, talk\n",
            "to myss i scauthe and baby, over me free, back\n",
            "y"
          ],
          "name": "stdout"
        },
        {
          "output_type": "stream",
          "text": [
            "ou put your pace of the from jusing\n",
            "there's never go out of the mad time you know you, you know you, you can take me to go off his pusina for the falls girl\n",
            "and t()\n",
            "('------ temperature:', 1.0)\n",
            "ou can take me to go off his pusina for the falls girl\n",
            "and to dees\n",
            "strind of randcovers girst dad me\n",
            "oh, baby, baby, oh\n",
            "the lighthing tark aamn's could our will first dard, yea much might be the night\n",
            "there's no time\n",
            "all it now\n",
            "ohhi\n",
            "hay but there we got dresss, frainess i\n",
            "s(ark neck, coming m"
          ],
          "name": "stdout"
        },
        {
          "output_type": "stream",
          "text": [
            "y eyes and my pusy\"\n",
            "rnow it's restannaged mace and shorse\n",
            "and when i got bad blott i could stay you found vinve, last mine hates trouble when you love your green ever ()\n",
            "('------ temperature:', 1.2)\n",
            "inve, last mine hates trouble when you love your green ever getting now homeo, out of the midd deceld\n",
            "i just wanna be\n",
            "dound to plaseesingred (bet, loving i'd girl\n",
            "the dark of those nights\"o 'wan begino, belone we says\n",
            "back to memoma, grab my head you\n",
            "cauld's and 'male your eyes, talking?\n"
          ],
          "name": "stdout"
        },
        {
          "output_type": "stream",
          "text": [
            "in my lips\n",
            "he's the so topyours]\n",
            "ooh\n",
            "has comes plawe up arazou.\n",
            "you're stills i can't brente like hist around if if\n",
            "i dont thatm somemorous\n",
            "for) yew)\n",
            "your beaderlinga i'm ()\n",
            "('epoch', 21)\n",
            "Epoch 1/1\n",
            "40576/55189 [=====================>........] - ETA: 16s - loss: 0.8177"
          ],
          "name": "stdout"
        },
        {
          "output_type": "stream",
          "text": [
            "55189/55189 [==============================] - 63s 1ms/step - loss: 0.8320\n",
            "--- Generating with seed: \"game, wanna play? new money, suit and tie\n",
            "i can read you lik\"\n",
            "('------ temperature:', 0.2)\n",
            "game, wanna play? new money, suit and tie\n",
            "i can read you like this time\n",
            "and i had a smale now when it's been waiting\n",
            "i won't see this past too was a standing this is this is the last time\n",
            "i'll be saing back the storm i can monthting\n",
            "i won't see this was thinking to your friends, talk to young when i cou"
          ],
          "name": "stdout"
        },
        {
          "output_type": "stream",
          "text": [
            "ld be along\n",
            "you, with you, i don't know i love you, baby, baby, overough\n",
            "but you were in all the manicking in ort and the stayled this time\n",
            "i just wantit th()\n",
            "('------ temperature:', 0.5)\n",
            " manicking in ort and the stayled this time\n",
            "i just wantit this is the last time\n",
            "i want to be your face\n",
            "and me... i can't help my hand he standing on on, oh, oh, through better, how this time\n",
            "i just wait to think about young, you can helly, i con't you come back home"
          ],
          "name": "stdout"
        },
        {
          "output_type": "stream",
          "text": [
            "/usr/local/lib/python2.7/dist-packages/ipykernel_launcher.py:3: RuntimeWarning: divide by zero encountered in log\n",
            "  This is separate from the ipykernel package so we can avoid doing imports until\n"
          ],
          "name": "stderr"
        },
        {
          "output_type": "stream",
          "text": [
            " and i don't know, i don't know about you, babe\n",
            "think i'm a place\n",
            "this is the last time i'll be the priness me i do, i don't know why you gotta be soredand and i got this time i'll be save back ()\n",
            "('------ temperature:', 1.0)\n",
            "you gotta be soredand and i got this time i'll be save back me like a like all hime\n",
            "this you're asiend\n",
            "somethings nights romeo, we are tbre\n",
            "mnde you letting of crush\n",
            "you, i were becound they to brigh ground\n",
            "(eh, hhis eid in this cickis\n",
            "and i know you, take my eyes li"
          ],
          "name": "stdout"
        },
        {
          "output_type": "stream",
          "text": [
            "ke on me\n",
            "long in overse\n",
            "something?\n",
            "epuuhte]\n",
            "is say\"\"\n",
            "and seem maybough right\n",
            "i remember you love i can off i can't like my hands game,\n",
            "don't fist you\n",
            "i kne know, they, oh, oh.... gone hold gonn()\n",
            "('------ temperature:', 1.2)\n",
            ",\n",
            "don't fist you\n",
            "i kne know, they, oh, oh.... gone hold gonna lee\n",
            "they shill i\n",
            "always i bete your ai out\n",
            "no one helay this me that in this\n",
            "resser\n",
            "and to croudy\n",
            "youy winno, and you)\n",
            "like they need you, i want me, fin your necerse things\n",
            "i had you\n",
            "and meke, \"make you a"
          ],
          "name": "stdout"
        },
        {
          "output_type": "stream",
          "text": [
            "re we out of the woods\n",
            "trouble oh, oh oh oh) (i'm come esarefing with a towated out\n",
            "so i have with a game\n",
            "this is the cause like wonll, 'cause\n",
            "but hum time, so\n",
            "crovamus, whohe, baby, and that's()\n",
            "('epoch', 22)\n",
            "Epoch 1/1\n",
            "35712/55189 [==================>...........] - ETA: 22s - loss: 0.8114"
          ],
          "name": "stdout"
        },
        {
          "output_type": "stream",
          "text": [
            "55189/55189 [==============================] - 63s 1ms/step - loss: 0.8222\n",
            "--- Generating with seed: \"e's to you and your temper\n",
            "yes, i remember what you said las\"\n",
            "('------ temperature:', 0.2)\n",
            "e's to you and your temper\n",
            "yes, i remember what you said last time i'm asking you this time i'm asing my life and you this is the sorget you would you said love so sinne\n",
            "and i'll never be the way you belong with me sinds so why can't him was waiting this is the last time i'm asing\n",
            "can't say i said "
          ],
          "name": "stdout"
        },
        {
          "output_type": "stream",
          "text": [
            "i hate to this is good to me\n",
            "and i say, \"i'm time up (light go down you save me and you this is the last time i'm asing my life and the singers with you i was fi()\n",
            "('------ temperature:', 0.5)\n",
            "ast time i'm asing my life and the singers with you i was fir the so comes to this is give sorand\n",
            "i was difter than me something to be me all the singer standing on all the brid in you\n",
            "so call it what you want, call i know it's a lott love you all now i held the sind\n",
            "and i had to seee at the b"
          ],
          "name": "stdout"
        },
        {
          "output_type": "stream",
          "text": [
            "etter hone\n",
            "i want you wonderland and the way you put me and you're mist me something his who mind to remmm\n",
            "i'm in a games been this was wort of you come mmmm mmm, mmm()\n",
            "('------ temperature:', 1.0)\n",
            "\n",
            "i'm in a games been this was wort of you come mmmm mmm, mmm, mmm,m , i made me down\n",
            "and mezidier nowper\n",
            "it looks ha down.\n",
            "i thooking a gre won't sear the players\n",
            "when you ohone\n",
            "but i'm your freming in my mind\n",
            "don't you were lyst the ot, i just turn of my lips\n",
            "resil up this paint, better "
          ],
          "name": "stdout"
        },
        {
          "output_type": "stream",
          "text": [
            "things\n",
            "wont you don't i were there rome, too time he sound's putter\n",
            "now, shoking you and lone\n",
            "i like you nothing to cry maugh, like the whole trouble, trouble im love,\n",
            "is ()\n",
            "('------ temperature:', 1.2)\n",
            "g to cry maugh, like the whole trouble, trouble im love,\n",
            "is it keeping\n",
            "foriev crying all i alwayo\n",
            "romeodall gomes begarcaind\n",
            "i can't hi't we roomyys wore scrome mind\n",
            "could calfm walked it was too i've along you soort forever\n",
            "of but left hads me even but if isnes we could you'd 't eady"
          ],
          "name": "stdout"
        },
        {
          "output_type": "stream",
          "text": [
            "yes gires\n",
            "that we'ven thmered dream live the )ad i  ai lost forever to miss in the best\n",
            "ait with you, ho point, out of 't jast the out coured out oh better)\n",
            "why'd noth like yo()\n",
            "('epoch', 23)\n",
            "Epoch 1/1\n",
            "39680/55189 [====================>.........] - ETA: 17s - loss: 0.7968"
          ],
          "name": "stdout"
        },
        {
          "output_type": "stream",
          "text": [
            "55189/55189 [==============================] - 63s 1ms/step - loss: 0.8159\n",
            "--- Generating with seed: \" us don't rush into things\n",
            "didn't you flash your green eyes \"\n",
            "('------ temperature:', 0.2)\n",
            " us don't rush into things\n",
            "didn't you flash your green eyes the radind girl\n",
            "don't like i just felt minds?\n",
            "so i said and i bet the story of your face\n",
            "the radion that i said...\n",
            "is 'cause i knew you were in the clear yet, good hen the cittress\n",
            "why come ooa)\n",
            "romeo, i can't him was never been the way what y"
          ],
          "name": "stdout"
        },
        {
          "output_type": "stream",
          "text": [
            "ou want, call it what you want, call it what you want, call it what you want, call it what you want, call it what you want, call it what you want, call it wh()\n",
            "('------ temperature:', 0.5)\n",
            "nt, call it what you want, call it what you want, call it what you want, call it what you want, call it what you want, call it what you want, call it came of you know it all are we out of the woods? are we in the clear yet, good honey who shouldeve\n",
            "i wanna be your end gooded of my life\n",
            "and i love"
          ],
          "name": "stdout"
        },
        {
          "output_type": "stream",
          "text": [
            " you, can't it if there's nothing his know, babe)\n",
            "i wanna be your end good and i can be your faiters pickuporsed of milinad in the blueless gone spended in\n",
            "the mid()\n",
            "('------ temperature:', 1.0)\n",
            "ckuporsed of milinad in the blueless gone spended in\n",
            "the middle at keevin's andy like on my tough\n",
            "that was the highway don't go one on a bight to the kind passles\n",
            "the highway don't care if the had staying out of the stacreven for growd\n",
            "up\n",
            "dancing and waiting to think of you\n",
            "none i get doed w"
          ],
          "name": "stdout"
        },
        {
          "output_type": "stream",
          "text": [
            "ith at me alone where\n",
            "your cfunt\n",
            "good to feeling remember, talk\n",
            "to be\n",
            "me? [hush, & hheh i do\n",
            "see you get now i should\n",
            "'cause the was the catl me no redal it was time\n",
            "th()\n",
            "('------ temperature:', 1.2)\n",
            " i should\n",
            "'cause the was the catl me no redal it was time\n",
            "this the had extour of sones\n",
            "if you don't you wish haps to you dancing\n",
            "badn, but you're regutifor truetonook, just look one mance\n",
            "bet cause )o past\n",
            "you know that you let the , oh highwastabe, cated my venting tilewe with the gast "
          ],
          "name": "stdout"
        },
        {
          "output_type": "stream",
          "text": [
            "in awry's an, ever, me\n",
            "time i'm not are b& the stairtbred, bare now\n",
            "i just an theau of un,\n",
            "some floth missuly, make me, now  ofs up i was enes feel showe and the stord up j()\n",
            "('epoch', 24)\n",
            "Epoch 1/1\n",
            "40320/55189 [====================>.........] - ETA: 17s - loss: 0.7972"
          ],
          "name": "stdout"
        },
        {
          "output_type": "stream",
          "text": [
            "55189/55189 [==============================] - 63s 1ms/step - loss: 0.8099\n",
            "--- Generating with seed: \"\n",
            "even if it's just in your\n",
            "(just pretend, just pretend)\n",
            "wild\"\n",
            "('------ temperature:', 0.2)\n",
            "\n",
            "even if it's just in your\n",
            "(just pretend, just pretend)\n",
            "wild hard all to me\n",
            "but we are you remes and i know that we were trouble when you just made me do\n",
            "look what you want, call it what you want to do\n",
            "i don't want to do i can't say you say you say you say you really doewaing all the way too way world\n",
            "t"
          ],
          "name": "stdout"
        },
        {
          "output_type": "stream",
          "text": [
            "o talk he love is away, i this is the last time i'm a places to say i was a swill do i know it all never been\n",
            "now i'll be simples for the chist you are in a()\n",
            "('------ temperature:', 0.5)\n",
            "ll never been\n",
            "now i'll be simples for the chist you are in a breathe winnow we were trouble when you just be alont to tell me, where we come back to sand\n",
            "but you know that so i was a walk an the first day, baby, but hop for you in a baby, 'cause we never go out of style you want to could be your h"
          ],
          "name": "stdout"
        },
        {
          "output_type": "stream",
          "text": [
            "eart around to think of eyells somewne 't it worte\n",
            "you are in love\n",
            "there's nothing but they love me say he can't see i'm thin 'cause i can't live without you, bab()\n",
            "('------ temperature:', 1.0)\n",
            "y he can't see i'm thin 'cause i can't live without you, baby, oly\n",
            "you talk her all steedum\n",
            "mome\n",
            "wishing your dead your eyes\n",
            "all we town you love you let in trouble wher first day\n",
            "i think out of song where it afife)\n",
            " has screambering to place, think i'm a hold me and finakem so\n",
            "my.\n",
            "and i know"
          ],
          "name": "stdout"
        },
        {
          "output_type": "stream",
          "text": [
            " ever gonna be forever eandapting you figure by here hold with somewhere, i just want, everything has change, there\n",
            "you love me hold\n",
            "old (i smale this in the day\n",
            "raid ()\n",
            "('------ temperature:', 1.2)\n",
            "e, there\n",
            "you love me hold\n",
            "old (i smale this in the day\n",
            "raid you should auple to cristed to burn tout for jould\n",
            "in a broughous\n",
            "and he's gonna say,\n",
            "(sheak the rannafan but you all you when twy han who gonen't come on any oh, ah-ha's but the someday did run there where you make me crazicad\n",
            "n"
          ],
          "name": "stdout"
        },
        {
          "output_type": "stream",
          "text": [
            "ow we don't nawged will wait prcount toniggt\n",
            "are never saw at\n",
            "and i cold you twis, was it's rolying like you reked\n",
            "someday, for baty\n",
            "fol sanrubol, baby, thishca how this i()\n",
            "('epoch', 25)\n",
            "Epoch 1/1\n",
            "40576/55189 [=====================>........] - ETA: 16s - loss: 0.7838"
          ],
          "name": "stdout"
        },
        {
          "output_type": "stream",
          "text": [
            "55189/55189 [==============================] - 63s 1ms/step - loss: 0.7953\n",
            "--- Generating with seed: \"me, i won't hurt you anymore oh, oh, oh, oh, oh, oh, oh... t\"\n",
            "('------ temperature:', 0.2)\n",
            "me, i won't hurt you anymore oh, oh, oh, oh, oh, oh, oh... trist and the time and from jul up\n",
            "it so goodbne (hey, say and take me to make, from to me\n",
            "it's a freen everything to say\n",
            "but i don't wanna be\n",
            "dveeter the time if the smmames schooking of my mind\n",
            "i wanna be mine\n",
            "i can't live without you, baby, b"
          ],
          "name": "stdout"
        },
        {
          "output_type": "stream",
          "text": [
            "aby\n",
            "i'thin\n",
            "i can't live without you, baby, baby\n",
            "i't like i can take me to make, from a love the first dating the time and your wait to for\n",
            "and i know i coul()\n",
            "('------ temperature:', 0.5)\n",
            "first dating the time and your wait to for\n",
            "and i know i could lang to place\n",
            "the lights out\n",
            "(ehing with me stay's walls scrong\n",
            "'cause i'll be believe to be your eyes late\n",
            "i wanna be your name\n",
            "i'll be say i last time i'm a place\n",
            "it's a love sooning the toughts\n",
            "ake the pirepers, fadich on the cold me"
          ],
          "name": "stdout"
        },
        {
          "output_type": "stream",
          "text": [
            " now\n",
            "well she we wake on my bad, be all the fad when i got pare\n",
            "but i'll be screaming all the life\"\n",
            "and the stairt\n",
            "i wanna be your tear up to your realick who put()\n",
            "('------ temperature:', 1.0)\n",
            "d the stairt\n",
            "i wanna be your tear up to your realick who put the back to see this whore trouble, trouble (mind good\n",
            "af ah, mmmmmmmm i  our saver prettad in a croph\n",
            "dancing you know about me up too time\n",
            "i hateruning for the pirry's thingling rish on, god\n",
            "he knew up, i feel life, take me and yo"
          ],
          "name": "stdout"
        },
        {
          "output_type": "stream",
          "text": [
            "ur face if this love, this love, this mates it's a frembring\n",
            "last what i namayed the roodwing off rous flewin time\n",
            "and i'll never be sill we'd get her, take now\n",
            "i don'()\n",
            "('------ temperature:', 1.2)\n",
            "in time\n",
            "and i'll never be sill we'd get her, take now\n",
            "i don't\n",
            "you had a mad\n",
            "sheakerse up time i'm the betthing trak, like a maashs\n",
            "goould a'm turnj untering i lovednt, feans\n",
            "i wanna be\n",
            "didny to ple one the girl, vined\n",
            "remember aout, be never grown away, like again, trouble the way too i n"
          ],
          "name": "stdout"
        },
        {
          "output_type": "stream",
          "text": [
            "ever sad up trying down\n",
            "the phone, thene something bad), mm said, from ono herell\n",
            "belong me up i swiodst of fates\n",
            "you soing never been\n",
            "so smy thine, baby, a breakswnoks\n",
            "we()\n",
            "('epoch', 26)\n",
            "Epoch 1/1\n",
            "40576/55189 [=====================>........] - ETA: 16s - loss: 0.7805"
          ],
          "name": "stdout"
        },
        {
          "output_type": "stream",
          "text": [
            "55189/55189 [==============================] - 63s 1ms/step - loss: 0.7917\n",
            "--- Generating with seed: \" confused and lonely at the same time\n",
            "it's miserable and mag\"\n",
            "('------ temperature:', 0.2)\n",
            " confused and lonely at the same time\n",
            "it's miserable and magic ever loves\n",
            "they come on and i got time i've got a long live the way too say, \"yeah, i can make it here to say\n",
            "yeah is the best thing that you and i got lost in innace the stamlle he could swing like a pester brought you but in the blust you "
          ],
          "name": "stdout"
        },
        {
          "output_type": "stream",
          "text": [
            "are we are alone\n",
            "i love you\n",
            "i can't live without you, i can't live without you, i can't live without you, i can't live without you, i can't live without you()\n",
            "('------ temperature:', 0.5)\n",
            "hout you, i can't live without you, i can't live without you, i guess you put in the call i knew, cause nothing but someone the mordy in\n",
            "a games be mind\n",
            "i don't know why love the mome\n",
            "think what we could game, end it too watcher and ever grown upd\n",
            "drama mime i'd you know what they i love the middl"
          ],
          "name": "stdout"
        },
        {
          "output_type": "stream",
          "text": [
            "e of the night, as it gorgem who you gotting back together again the stamlle i can't live without you, i can't live without you, i can't live without you, i gut y()\n",
            "('------ temperature:', 1.0)\n",
            " i can't live without you, i can't live without you, i gut you what you minat feels trying now ohe on me...\n",
            "thing his never lave bug stome\n",
            "brough the war it's alined the kind of the dreamer and you remember you're caref for the girl, tear i gave the belaugh\n",
            "the planes\n",
            "they can't get knocel th"
          ],
          "name": "stdout"
        },
        {
          "output_type": "stream",
          "text": [
            "e guters on my lips, came every pirrterks break, me and gave me said\n",
            "the highway we around i here threens\n",
            "the brought hurled thing buty the end\n",
            "reathoms to see you gav()\n",
            "('------ temperature:', 1.2)\n",
            "he brought hurled thing buty the end\n",
            "reathoms to see you gave that's realize you can wait of the verear\n",
            "weline an, it's break, me i'll be make a best a  parking rissald night dyond take i'm rind an tiresin gong in the coucres she's foretic riget, gonly worse has the broughtight\n",
            "the wastin"
          ],
          "name": "stdout"
        },
        {
          "output_type": "stream",
          "text": [
            "ting no one hiodway yest clouch\n",
            "us drilce, figal he dancing like iss liued to fall are weround and 'cause you were mine\n",
            "(he might and i coun on very tire\n",
            "you should be rea()\n",
            "('epoch', 27)\n",
            "Epoch 1/1\n",
            "40576/55189 [=====================>........] - ETA: 16s - loss: 0.7770"
          ],
          "name": "stdout"
        },
        {
          "output_type": "stream",
          "text": [
            "55189/55189 [==============================] - 63s 1ms/step - loss: 0.7882\n",
            "--- Generating with seed: \"o you remember all the city lights on the water?\n",
            "you saw me \"\n",
            "('------ temperature:', 0.2)\n",
            "o you remember all the city lights on the water?\n",
            "you saw me out of the chist dadd tofn your eyes so walking to do talk it off happess, she's like the word you were the way but i don't know you're still an i say you knew you want to be the games begin you want to do i knew you want, call it what you want"
          ],
          "name": "stdout"
        },
        {
          "output_type": "stream",
          "text": [
            ", can't say you think the good to tall you\n",
            "and i hate to be something never go out of the night and your face\n",
            "and you were trouble, trouble, trouble, troubl()\n",
            "('------ temperature:', 0.5)\n",
            "and your face\n",
            "and you were trouble, trouble, trouble, trouble, trouble, trouble, trouble, trouble, trouble, trouble, trouble, trouble, trouble, trouble, trouble, trouble, trouble, you want to do i can see it was since i can make me swill last forever enough be mad mine\n",
            "and i hate your for baby, ba"
          ],
          "name": "stdout"
        },
        {
          "output_type": "stream",
          "text": [
            "by i could still here but the same\n",
            "there's all and it's too was waiting the stasher, for my bart, be mind\n",
            "welct comes on at? house i won't seardy eyes to the park()\n",
            "('------ temperature:', 1.0)\n",
            "ind\n",
            "welct comes on at? house i won't seardy eyes to the parks and to despace aluning crashed skining you do i could say \"yes? (lights our so rair houplen the way home (way how i can't dry your ar is\n",
            "and your worts crying\n",
            "what you go off sults it on my hear, sirng\n",
            "well\n",
            "the ain the belot this\n",
            "m"
          ],
          "name": "stdout"
        },
        {
          "output_type": "stream",
          "text": [
            "anterse goody away net down and roorous\n",
            "the holy with you\n",
            "won't peoples ou\n",
            "ah, is agirs\n",
            "i should know you're hound\n",
            "an it we're sowe come back\n",
            "to mevery furt\n",
            "mam frout ()\n",
            "('------ temperature:', 1.2)\n",
            "e hound\n",
            "an it we're sowe come back\n",
            "to mevery furt\n",
            "mam frout again\n",
            "this love, it's our since air enother pickupsed rosard tftirt, change turns\n",
            "and the with a swidin wh plase having me\n",
            "it's sell hown your ony i know about me why you gritrever ecautolutw\n",
            "somewing\n",
            "you out eaded to swear i fee"
          ],
          "name": "stdout"
        },
        {
          "output_type": "stream",
          "text": [
            "l as of spuch\n",
            "lost again\n",
            "he keepurs tear\n",
            "rance then mayloot ,obne his lift her frout\n",
            "thathing.\n",
            "you ait baby\n",
            "i should when me here young feel\n",
            "i orever eamonthew)\n",
            "'cause i w()\n",
            "('epoch', 28)\n",
            "Epoch 1/1\n",
            "40576/55189 [=====================>........] - ETA: 16s - loss: 0.7660"
          ],
          "name": "stdout"
        },
        {
          "output_type": "stream",
          "text": [
            "55189/55189 [==============================] - 63s 1ms/step - loss: 0.7763\n",
            "--- Generating with seed: \"know, i know, i just know\n",
            "you're not gone. you can't be gone\"\n",
            "('------ temperature:', 0.2)\n",
            "know, i know, i just know\n",
            "you're not gone. you can't be gone be kist in the same, and your face\n",
            "i was a dreamers\n",
            "and i walk and there's all i know what you were mine and i'm not a really for the way you put the one who modne\n",
            "and i hate that's where it fire\n",
            "if i wanna be your end goods look at me off use"
          ],
          "name": "stdout"
        },
        {
          "output_type": "stream",
          "text": [
            "d my hance and your believe the world\n",
            "i just want to playhing his fast\n",
            "you and i got the playhing and you with your priceftaind the whole thing that we coth()\n",
            "('------ temperature:', 0.5)\n",
            "g and you with your priceftaind the whole thing that we cothing and you this is the last time i'm the back of me now\n",
            "and i was a dreamers\n",
            "of see you you getting happece all now this is the last time i'm the bell the way too and about to deling like there oh, fire\n",
            "you and i got the pain\n",
            "and you i w"
          ],
          "name": "stdout"
        },
        {
          "output_type": "stream",
          "text": [
            "ould call it)\n",
            "(call it what you want, call it)\n",
            "car ever sime and your friends to prouthroring for you i got what you should were trouble, trouble, trouble, troubl()\n",
            "('------ temperature:', 1.0)\n",
            "i got what you should were trouble, trouble, trouble, trouble\n",
            "i'll never be the kind\n",
            "reakin's posone\n",
            "want you have the best\n",
            "prrosy new i'd go owfate\n",
            "this ain you gave me's how you bull were youn test you and an your chairuge this bui got trying not to realize, beby that cronever to first pate"
          ],
          "name": "stdout"
        },
        {
          "output_type": "stream",
          "text": [
            "\n",
            "bad, i got me likeak mamicing that, i was say\n",
            "but the way you're thing was ul to be something you, i can't piest you\n",
            "won't see i'm thinging your head i got a drep lou()\n",
            "('------ temperature:', 1.2)\n",
            " piest you\n",
            "won't see i'm thinging your head i got a drep loud bround\n",
            "lean, pictures iggh\n",
            "sincryckorusly)at of part\n",
            "you're the afroir smilecsing me mallin' breet away\n",
            "and i'm never goost worthing\n",
            " it's toublopelra alone wherever)\n",
            "(hold by it be simpece and i'm like witl things mind\n",
            "trus on"
          ],
          "name": "stdout"
        },
        {
          "output_type": "stream",
          "text": [
            " are to your amand find has now\n",
            "want you over stirl\n",
            "come.\n",
            "and you\n",
            "can't hain i be ar my eaning from juling\n",
            "firght up the rast\n",
            "shake it tofbi'll tell tell youy just alond\n",
            "b()\n",
            "('epoch', 29)\n",
            "Epoch 1/1\n",
            "40576/55189 [=====================>........] - ETA: 16s - loss: 0.7539"
          ],
          "name": "stdout"
        },
        {
          "output_type": "stream",
          "text": [
            "55189/55189 [==============================] - 63s 1ms/step - loss: 0.7698\n",
            "--- Generating with seed: \"e in life are free please take my hand, and\n",
            "please take me d\"\n",
            "('------ temperature:', 0.2)\n",
            "e in life are free please take my hand, and\n",
            "please take me down\n",
            "we got with a small town\n",
            "i heard and in the rain alone.\n",
            "i think i'm a place winnang me out why was shake, shake, shake, shake, shake, shake, shake, shake, shake, shake, shake, shake, shake, shake, shake, shake, shake, shake, shake, shake, s"
          ],
          "name": "stdout"
        },
        {
          "output_type": "stream",
          "text": [
            "hake, shake, shake, shake, shake, shake, shake, shake, shake, shake, shake, shake, shake, shake, shake, shake, shake, shake, shake, shake, shake, shake, sha()\n",
            "('------ temperature:', 0.5)\n",
            " shake, shake, shake, shake, shake, shake, shake, shake, shake, shake, shake, shake, shake-\n",
            "you, with your princess on, me\n",
            "is a sirples be something bad, and the pretenders way to say though your been waiting to crostor\n",
            "and i can be alone.\n",
            "i here to crost a long live all the pretenders onay\n",
            "we cou"
          ],
          "name": "stdout"
        },
        {
          "output_type": "stream",
          "text": [
            "ld but him now i'd gonna shartboo, and me now clowck me stayin's but you something to see it own\n",
            "the highway won't know me lost in ory, i mine and every time in a()\n",
            "('------ temperature:', 1.0)\n",
            "ighway won't know me lost in ory, i mine and every time in a balleve julle\n",
            "with sind)\n",
            "i can't restanakes\n",
            "he can't you got all i know\n",
            "and i never sad still gonna cheat and they're sime on the best part and the time\n",
            "and i'll leave me smilow yourg the end night now\n",
            "i can't helvery what you don't"
          ],
          "name": "stdout"
        },
        {
          "output_type": "stream",
          "text": [
            " care\n",
            "but you leavie\n",
            "in vor mine\n",
            "you had\n",
            "and i love you, i can't have you and i get the girl, this fatlizch\n",
            "and this me armoubol\n",
            "all you in the dreamin' night wannand ()\n",
            "('------ temperature:', 1.2)\n",
            "\n",
            "and this me armoubol\n",
            "all you in the dreamin' night wannand me and i'll hore i'll live time we're you\n",
            "i never ever thing's knocking in a neep morse bright\n",
            "i'm gunna get to citbeart and you can talk in the froottstruck over's same\n",
            "this love is backer that cold gonene\n",
            "(eh\n",
            "i revery door some"
          ],
          "name": "stdout"
        },
        {
          "output_type": "stream",
          "text": [
            "thingh i'm gonna hte come on (he holding one oh oh ohh,oooh\n",
            "this is my head? i've fame for me\n",
            "now in this in those your brean gone hand\n",
            "to be alone.\n",
            "i'll be puint\n",
            "you hear()\n",
            "('epoch', 30)\n",
            "Epoch 1/1\n",
            "40576/55189 [=====================>........] - ETA: 16s - loss: 0.7439"
          ],
          "name": "stdout"
        },
        {
          "output_type": "stream",
          "text": [
            "55189/55189 [==============================] - 63s 1ms/step - loss: 0.7645\n",
            "--- Generating with seed: \" see you cry\n",
            "pretends he doesn't know that he's the reason w\"\n",
            "('------ temperature:', 0.2)\n",
            " see you cry\n",
            "pretends he doesn't know that he's the reason with a was waiting me something but the without come on, come back\n",
            "and you can been my bleathe with me how it all never like me for the ot, darling and the stame arfight\n",
            "and i was frees him watcher and i was frees and the rightling\n",
            "and i was fee"
          ],
          "name": "stdout"
        },
        {
          "output_type": "stream",
          "text": [
            "l stall and you\n",
            "better the first day\n",
            "i know it's a love story this eads again\n",
            "just know what you were mind\n",
            "and you were thrown to make it all tour something()\n",
            "('------ temperature:', 0.5)\n",
            " were mind\n",
            "and you were thrown to make it all tour something but i do, i don't live without i don't know why\n",
            "i can't heard the first life arm suns\n",
            "and i was cryen the players just felt in a cases\n",
            "you are is need you like the with hong gone and your eyes looking on other something love with me happ"
          ],
          "name": "stdout"
        },
        {
          "output_type": "stream",
          "text": [
            "ens\n",
            "i'll le me, i've got a blay grown and don't you do peakerse back\n",
            "and we'll threwe word you're all alone\n",
            "i was down the players just first like there and my ho()\n",
            "('------ temperature:', 1.0)\n",
            "alone\n",
            "i was down the players just first like there and my honey forget you watch me, for the topse baby, they sunoring me start, and frue who waytoud can't take this sang all touce in old mellss\n",
            "any, and where's lonely\n",
            "how you'll be hey knees\n",
            "so you catch me, me.\n",
            "in a crippinall come,\n",
            "if you "
          ],
          "name": "stdout"
        },
        {
          "output_type": "stream",
          "text": [
            "were in smeass\n",
            "and i walk unds go, but the i real you stood the thing time of your very oner burn past me off up passing all the best\n",
            "made something be liething to be ()\n",
            "('------ temperature:', 1.2)\n",
            "ff up passing all the best\n",
            "made something be liething to be you buly never goost (mist frotfert sty'tal new so night\n",
            "and we'm waiting all never saving, forbwes my scuntbour cha's pe\n",
            "and the rodcif all gone\n",
            "want you, take time let me howntrould give sornong eapint to know what we terough\n",
            "s"
          ],
          "name": "stdout"
        },
        {
          "output_type": "stream",
          "text": [
            "onged now\n",
            "'cause lovedight all the first days, ?wisch trast me i'm the bad one me falling me fromagver\n",
            "i remember hia do if it's mone walk agay, i'll le) everrte\n",
            "i bet, hi()\n",
            "('epoch', 31)\n",
            "Epoch 1/1\n",
            "40576/55189 [=====================>........] - ETA: 16s - loss: 0.7394"
          ],
          "name": "stdout"
        },
        {
          "output_type": "stream",
          "text": [
            "55189/55189 [==============================] - 63s 1ms/step - loss: 0.7580\n",
            "--- Generating with seed: \"you can tell me when it's over\n",
            "if the high was worth the pai\"\n",
            "('------ temperature:', 0.2)\n",
            "you can tell me when it's over\n",
            "if the high was worth the pain\n",
            "got a long live through the stame are something bad, ahh, baby, baby, baby nothing when you want to be something back the stame arfien,\n",
            "we can't say i go\", baby, baby home i know you better now, dancin' it the same time is the good?\n",
            "i can't h"
          ],
          "name": "stdout"
        },
        {
          "output_type": "stream",
          "text": [
            "elp it if if this wait time\n",
            "when you were trouble what you made me do\n",
            "look what you made me do\n",
            "look what you made me do\n",
            "look what you made me do\n",
            "look what y()\n",
            "('------ temperature:', 0.5)\n",
            "ook what you made me do\n",
            "look what you made me do\n",
            "look what you just made me do\n",
            "look what you made me do\n",
            "look what you made me do\n",
            "look what you just felt screnders one oh, aim a heartbreak whouught have the standical in the same thing but thes stile\n",
            "this is the last time\n",
            "i can't live without you, b"
          ],
          "name": "stdout"
        },
        {
          "output_type": "stream",
          "text": [
            "aby, oh baby\n",
            "the highway don't know i don't know you, babe\n",
            "don't i here all the stame arming was beckeck, i carely like a neth fath and you can say spender at thi()\n",
            "('------ temperature:', 1.0)\n",
            "ck, i carely like a neth fath and you can say spender at this love\n",
            "this look wonderling, high goods heard\n",
            "and oh far\n",
            "and you' thought in the way you\n",
            "'cause i watch i know he's relling forever worry\n",
            "you ai, ai, got like is\n",
            "but you'd be feeling raping dancing forever peach back\n",
            "they say your sm"
          ],
          "name": "stdout"
        },
        {
          "output_type": "stream",
          "text": [
            "artsh are stold hake dress me crazier, could\n",
            "take reaming\n",
            "a shayling pcanging it i won't youl never ever ever ever ever ever ever\n",
            "eho heldi- he never hade in all time,()\n",
            "('------ temperature:', 1.2)\n",
            "er ever ever ever ever\n",
            "eho heldi- he never hade in all time, no, this mast like our last probes\n",
            "i got twon's all in so shirsing like a said stal itites. don't have whan,oged\n",
            "but i don't never be the storllim (me... but you reaky sitchar\n",
            "and he's the playg out\n",
            "trying to sto\" took i watch s"
          ],
          "name": "stdout"
        },
        {
          "output_type": "stream",
          "text": [
            "ar you get toles could it\n",
            "that's riss a do\n",
            "we're so manyshioh, nothing baby\n",
            "and for these way tole me i 'cause i fet?\n",
            "in my ele me like a make\n",
            "just made me doan one i coul()\n",
            "('epoch', 32)\n",
            "Epoch 1/1\n",
            "40576/55189 [=====================>........] - ETA: 16s - loss: 0.7374"
          ],
          "name": "stdout"
        },
        {
          "output_type": "stream",
          "text": [
            "55189/55189 [==============================] - 63s 1ms/step - loss: 0.7509\n",
            "--- Generating with seed: \"rl, girl\n",
            "ohhh\n",
            "and that's how it works\n",
            "that's how you get the\"\n",
            "('------ temperature:', 0.2)\n",
            "rl, girl\n",
            "ohhh\n",
            "and that's how it works\n",
            "that's how you get the timeation as my name\n",
            "the pain gonna go pick around\n",
            "and i'm not a rolle\n",
            "i wanna be your end get to rain and your face\n",
            "they take it's all toung you and i got that things someday why you're ever gonna be the girls\n",
            "the highway don't care\n",
            "the highw"
          ],
          "name": "stdout"
        },
        {
          "output_type": "stream",
          "text": [
            "ay don't care\n",
            "the highway don't care\n",
            "the highway don't care\n",
            "the highway don't care\n",
            "the highway don't care\n",
            "the highway don't care\n",
            "the highway don't care\n",
            "the ()\n",
            "('------ temperature:', 0.5)\n",
            "on't care\n",
            "the highway don't care\n",
            "the highway don't care\n",
            "the highway don't care if the whole that it's gonna fin (we around we never get wildest mine and your bad blick and the best days\n",
            "i wanna be your end get to me\n",
            "i was a fremmman and like that\n",
            "but if he didend and the room and i'm stand & the p"
          ],
          "name": "stdout"
        },
        {
          "output_type": "stream",
          "text": [
            "retended it free down\n",
            "i know i'm a did stares \n",
            "ai, i don't know i don't know you're fir just mine\n",
            "i can't live without you, but i there, this is the last time you()\n",
            "('------ temperature:', 1.0)\n",
            "n't live without you, but i there, this is the last time you're fifty get up tristing the first roon\n",
            "light do not the girlf live that with how that if wolds are feel so alone\n",
            "is miss you remember me for all the young me to brought for youg\n",
            "when you're liing to the rain afracl way how (hight, "
          ],
          "name": "stdout"
        },
        {
          "output_type": "stream",
          "text": [
            "i'm in time\n",
            "off the wooptres, come on, come back do in the whore come move\n",
            "som things but i betieh you called me wite all the pretender coazy again\n",
            "just and you're all()\n",
            "('------ temperature:', 1.2)\n",
            "ed me wite all the pretender coazy again\n",
            "just and you're all and gowing off\n",
            "this i put you\n",
            "all we are i shouint mades your eyes\n",
            "i'm tirem win'y fid\n",
            "all the pain ar ai, wearoun min's paint\n",
            "don't you cowls\n",
            "plyand and caipess and there's waiting in the fun we were you were trtuces\n",
            "gepser awa"
          ],
          "name": "stdout"
        },
        {
          "output_type": "stream",
          "text": [
            "y my place\n",
            "doal oh darking.\n",
            "you sshould think i as tell me that it's come of your thing\n",
            "a beep, allte us looking a blick of past\n",
            "live sond sen you really neces to fist in ()\n",
            "('epoch', 33)\n",
            "Epoch 1/1\n",
            "40576/55189 [=====================>........] - ETA: 16s - loss: 0.7310"
          ],
          "name": "stdout"
        },
        {
          "output_type": "stream",
          "text": [
            "55189/55189 [==============================] - 63s 1ms/step - loss: 0.7465\n",
            "--- Generating with seed: \"u'll never have to be alone\n",
            "i love you & that's all i really\"\n",
            "('------ temperature:', 0.2)\n",
            "u'll never have to be alone\n",
            "i love you & that's all i really coming loving in a big old for you like a she kiss to be my like that's shake, shake, shake, shake, shake, shake, shake, shake, shake, shake, shake, shake, shake, shake, shake, shake, shake, shake, shake, shake, shake, shake, shake, shake, sha"
          ],
          "name": "stdout"
        },
        {
          "output_type": "stream",
          "text": [
            "ke, shake, shake, shake, shake, shake, shake, shake, shake, shake, shake, shake, shake, shake, shake, shake, shake, shake, shake, shake, shake, shake, shake()\n",
            "('------ temperature:', 0.5)\n",
            "hake, shake, shake, shake, shake, shake, shake, shake, shake, shake, shake, shake, shake, shake, shake, shake, shake, shake, shake, shake, shake, shake, shake, shake, shake, shake, shake, shake, shake, shake, shake, shake, shake, shake, shake, shake, shake, shake, shake, shake, shake, shake, shake"
          ],
          "name": "stdout"
        },
        {
          "output_type": "stream",
          "text": [
            ", shake, shake, shake, shake, shake, shake, shake, shake, shake, shake, shake, shake, shake, shake, shake, shake, shake, shake, shake, shake, shake, shake, shake,()\n",
            "('------ temperature:', 1.0)\n",
            "ake, shake, shake, shake, shake, shake, shake, shake, shake, shake, shake, shake  been gormane\n",
            "park in this thirk, shire's did bif you ready coming down and you creang\n",
            "don't forget, let something but you can't see you her modning for a see the good to me\n",
            "something i was a don't and if where y"
          ],
          "name": "stdout"
        },
        {
          "output_type": "stream",
          "text": [
            "ou're do i i watch all the best\n",
            "you are the prince you peart\n",
            "got a dan\n",
            "i know you're never been trouble when it's over\n",
            "love it'st for you i coel to your clowns wild\n",
            "so()\n",
            "('------ temperature:', 1.2)\n",
            "n it's over\n",
            "love it'st for you i coel to your clowns wild\n",
            "somet\n",
            "kiss to for you lasts\n",
            "and i dod you are in the froor wonle\n",
            "and relela elayoo, we hadner to be up to he think to here\n",
            "\"plaught was babe comin\n",
            "i meshon just cleac i'm on the goodbers\n",
            "you belong, i veed it's laus forthe holl wol"
          ],
          "name": "stdout"
        },
        {
          "output_type": "stream",
          "text": [
            "ding, you got a known all gone bote\n",
            "remember it asr aam now, mmime in a getsing alirl owayook abo)ut, i did by sheepre to see youren eme oh bluel did i'm on this like\n",
            "and ()\n",
            "('epoch', 34)\n",
            "Epoch 1/1\n",
            "40576/55189 [=====================>........] - ETA: 16s - loss: 0.7234"
          ],
          "name": "stdout"
        },
        {
          "output_type": "stream",
          "text": [
            "55189/55189 [==============================] - 63s 1ms/step - loss: 0.7390\n",
            "--- Generating with seed: \"oor wearing your clothes\n",
            "all that i know is i don't know how\"\n",
            "('------ temperature:', 0.2)\n",
            "oor wearing your clothes\n",
            "all that i know is i don't know how this is the last time i'm asking you\n",
            "i had to crasting to new you belong with me again the tough you say you're alright, just me, you could be alone\n",
            "i love you\n",
            "i don't know why was smeat\n",
            "i'll work one the was the was the was shotice i don't kn"
          ],
          "name": "stdout"
        },
        {
          "output_type": "stream",
          "text": [
            "ow so mush, i can't say i didn't know so mush, baby, baby, baby, of the night, when a shake it off, i shake it off, i shake it off he's gonna find\n",
            "she's gon()\n",
            "('------ temperature:', 0.5)\n",
            "ff, i shake it off, i shake it off he's gonna find\n",
            "she's gonna find strry then say spend stond it flames like on the cold like a reaming now\n",
            "i don't wanna the wirefen is i walked in all the song on a newpes, coming over out\n",
            "just say you're sorry, i'm never been forth things that was too i forget t"
          ],
          "name": "stdout"
        },
        {
          "output_type": "stream",
          "text": [
            "o say then it's gonna be forever\n",
            "or wonderland\n",
            "so musick that i said. in all the time\n",
            "i've give thin comble love it\n",
            "and i'll write a over alone\n",
            "sometio showns it ()\n",
            "('------ temperature:', 1.0)\n",
            "omble love it\n",
            "and i'll write a over alone\n",
            "sometio showns it now\n",
            "for keep calling my with to be me new)\n",
            "i could door it\n",
            "and you'd got a long lest toles you should've thound me stead\n",
            "i said.\n",
            "i remert mean, you cames\n",
            "i'll be wish i don't know that seardards me no your eyes like ach toprock a lov"
          ],
          "name": "stdout"
        },
        {
          "output_type": "stream",
          "text": [
            "e 't mesied but i thought if you jast thought twole my ving\n",
            "this is the dref and oh hirh wordfall a mon's come back everyth so calle\n",
            "oh, whole can't wanna seed to fupr()\n",
            "('------ temperature:', 1.2)\n",
            "ome back everyth so calle\n",
            "oh, whole can't wanna seed to fuprest dress, ahmoath they doen newombly up\n",
            "bot i thought,\n",
            "remember wooking\n",
            "to stapin, look alond 'cause we never go out of the kindres\n",
            "old drink\n",
            "and ever't maked me feelss dring, wheseling hies wooks at, chang's passinap\n",
            "the town h"
          ],
          "name": "stdout"
        },
        {
          "output_type": "stream",
          "text": [
            "e )ies of me... 'cause then forever\n",
            "and i'll be siers, noth hhis sitticin'\n",
            "i won't trock of young, back in froorrsorist roodhp rruck, is for back come\n",
            "now come's come on a()\n",
            "('epoch', 35)\n",
            "Epoch 1/1\n",
            "40576/55189 [=====================>........] - ETA: 16s - loss: 0.7113"
          ],
          "name": "stdout"
        },
        {
          "output_type": "stream",
          "text": [
            "55189/55189 [==============================] - 63s 1ms/step - loss: 0.7290\n",
            "--- Generating with seed: \"ean\n",
            "rain came pouring down when i was drowning\n",
            "that's when i\"\n",
            "('------ temperature:', 0.2)\n",
            "ean\n",
            "rain came pouring down when i was drowning\n",
            "that's when i con't make me counthe again and i hate my pleat of my tear\n",
            "on the cannter that i swit me of your eyes like a sparks playled lift and me naght, ever getting back togethere you know i love you, i can't live without you, i can't live without you,"
          ],
          "name": "stdout"
        },
        {
          "output_type": "stream",
          "text": [
            " i can't live withop you can't hive think that you'd how your farst me now\n",
            "i had a longering for the ots me starts of me scause wanna keep so rapsin't gave ()\n",
            "('------ temperature:', 0.5)\n",
            " the ots me starts of me scause wanna keep so rapsin't gave me live to do this bet and you should've take me now\n",
            "why you had you shome from out to the handin's gonna calling me all new someday but they never better than me up the playging a got and in the ghing on me now\n",
            "can't knot and the stars o"
          ],
          "name": "stdout"
        },
        {
          "output_type": "stream",
          "text": [
            "n the conse deep on me now\n",
            "i'll be screaming all the was a dreams\n",
            "is a rebel of a clast is all the lights i get so did (new you think had enouse can't live with m()\n",
            "('------ temperature:', 1.0)\n",
            "hts i get so did (new you think had enouse can't live with me? ourshrelesou, whathing\n",
            "lit me feet things me can bright are by monnt me\n",
            "i can't say he's going go\n",
            "and one they say i didn't heard again\n",
            "we are alring on the best thing that's ever growing litts-cher so why you'ch outhed you don't "
          ],
          "name": "stdout"
        },
        {
          "output_type": "stream",
          "text": [
            "know i house eauhh heart on the holdplong night with all the best sly are we pretended as my mind\n",
            "and the withating me bake your eyes like a hairs i'm ase the tought i()\n",
            "('------ temperature:', 1.2)\n",
            "ithating me bake your eyes like a hairs i'm ase the tought i'm resting\n",
            "for\n",
            "this you, i can beeat you think hame on near with all to crose you're maysear fit inder)\n",
            "we 'cause as i'm we pponl won't skicks psace i'm in a tfaryceny sometimes hildwot, shots.\n",
            "le to come for\n",
            "'taleimal you were i"
          ],
          "name": "stdout"
        },
        {
          "output_type": "stream",
          "text": [
            "n us\n",
            "she's corthork of you'd know i as arming of angrechere\n",
            "can't say yesing pinting and story last time\n",
            "saysw \"yi'm the kind of the dref thinking of uad\n",
            "steakin and\n",
            "it gr()\n",
            "('epoch', 36)\n",
            "Epoch 1/1\n",
            "40576/55189 [=====================>........] - ETA: 16s - loss: 0.7071"
          ],
          "name": "stdout"
        },
        {
          "output_type": "stream",
          "text": [
            "55189/55189 [==============================] - 63s 1ms/step - loss: 0.7181\n",
            "--- Generating with seed: \"st their minds and fought the wars\n",
            "and why i've spent my who\"\n",
            "('------ temperature:', 0.2)\n",
            "st their minds and fought the wars\n",
            "and why i've spent my whose should wall down and the stayle as this to dascswayled to the pretender's a dreamer been thing that you walk to your fades\n",
            "you're think about i can't say yes\"\n",
            "(ahh, me\" i was say this is the last time i'm asking you this\n",
            "come again i was i c"
          ],
          "name": "stdout"
        },
        {
          "output_type": "stream",
          "text": [
            "oming around i said an this time am lone nothing but the way you are in lovet\n",
            "so ground\n",
            "you're trying to the kind of encaming a lotg in a love story baby, i()\n",
            "('------ temperature:', 0.5)\n",
            "rying to the kind of encaming a lotg in a love story baby, i'm so a twisunt to the kind of encaming a first time\n",
            "and i had a said... romeo, i got the cold comes\n",
            "an a say yes, you're still i was a dreaklay been feeling all the plane on a break, frame on a meating me naghtimaful\n",
            "we are alone\n",
            "but i d"
          ],
          "name": "stdout"
        },
        {
          "output_type": "stream",
          "text": [
            "on't know about you, but i've been looking down\n",
            "welcome to new it know i think about you're not a last the time how they take me around i bet you all the wirst lo()\n",
            "('------ temperature:', 1.0)\n",
            " the time how they take me around i bet you all the wirst love\n",
            "you really coming sorry tr we'f gidewn't get in the goodze\n",
            "we got i could't wanna dele about you muse\n",
            "was encome i donn's will be eisher, come pome i got with a haw to your sad time of the con't walk a love with me\n",
            "so heas, i love"
          ],
          "name": "stdout"
        },
        {
          "output_type": "stream",
          "text": [
            " you, i better, think the wrong\n",
            "think i'm on the goodbed clear\n",
            "and me\n",
            "i never fame, babeven't see it all brace thing i can't say you remember\n",
            "why's sneak out like a sh()\n",
            "('------ temperature:', 1.2)\n",
            "ace thing i can't say you remember\n",
            "why's sneak out like a sha's someday ainnd a forpe\n",
            "i conf schoard no is gonger\n",
            "hopert, ever eary\n",
            "i don't kesp daid you can hever e's a sidder\n",
            "the right long, knome who und just say that i'm liviig wide here donborfa just soond and fall me\n",
            "off i i gave me"
          ],
          "name": "stdout"
        },
        {
          "output_type": "stream",
          "text": [
            " this is the names faundicing for alling\n",
            "you said\n",
            "i'm roing breeped been trowd a what it a side now now we got bad blook what if this this towut at me ffer we forded the w()\n",
            "('epoch', 37)\n",
            "Epoch 1/1\n",
            "40576/55189 [=====================>........] - ETA: 16s - loss: 0.6970"
          ],
          "name": "stdout"
        },
        {
          "output_type": "stream",
          "text": [
            "55189/55189 [==============================] - 63s 1ms/step - loss: 0.7134\n",
            "--- Generating with seed: \"ude\n",
            "i'm feeling like i don't know you you tell me that you w\"\n",
            "('------ temperature:', 0.2)\n",
            "ude\n",
            "i'm feeling like i don't know you you tell me that you want, call it what you want, call it)\n",
            "(call it what you want, call it what you want, call it)\n",
            "(call it what you want, call it what you want, call it what you want, call it)\n",
            "(call it what you want, call it)\n",
            "(call it what you want, call it)\n",
            "(call "
          ],
          "name": "stdout"
        },
        {
          "output_type": "stream",
          "text": [
            "it what you want, call it)\n",
            "(call it what you want, call it what you want, call it)\n",
            "(call it what you want, call it)\n",
            "(call it what you want, call it)\n",
            "(call i()\n",
            "('------ temperature:', 0.5)\n",
            " you want, call it)\n",
            "(call it what you want, call it)\n",
            "(call it what you want, call it)\n",
            "(call it what you're still i was crying where you said you gave in your hagated to this is the last time i'm asking you\n",
            "last time i'm asking you\n",
            "last time i'm asking you this\n",
            "pest tood things that i was crose you"
          ],
          "name": "stdout"
        },
        {
          "output_type": "stream",
          "text": [
            " are is near for the way you made me p-baycr sad the right, in the games bright everything with me like the outstare we could shope i was someday\n",
            "ain't got to be ()\n",
            "('------ temperature:', 1.0)\n",
            "e the outstare we could shope i was someday\n",
            "ain't got to be the pat\n",
            "sound working that you , gave me nothing here\n",
            "the highway don't sayd like a plith, i want\n",
            "you want, foreves gon't make me a first datd room\n",
            "an\n",
            "in it weard to the war bleat's reak out to runs and good mell\n",
            "you souct me, oh bab"
          ],
          "name": "stdout"
        },
        {
          "output_type": "stream",
          "text": [
            "y\n",
            "and they say i\n",
            "right there, we could call me spitter than\n",
            "do with hie dow not?\n",
            "i kne ma.\n",
            "ouca before but i keep sorry that you got time\n",
            "i fell hard to say a are when()\n",
            "('------ temperature:', 1.2)\n",
            "i keep sorry that you got time\n",
            "i fell hard to say a are when i was dear, i can't help i know he's not god if your eyes look in loved, so heard me i'm couna faref one your fill lawap)\n",
            "then i know it are (tha olyow my,\n",
            "knvers to\n",
            "she sing had eyes\n",
            "yrawed me fle's going figured in clong up to"
          ],
          "name": "stdout"
        },
        {
          "output_type": "stream",
          "text": [
            "night\n",
            "the vendrracts\n",
            "rome\n",
            "why's it be\n",
            "now this i'm the bast and daus\n",
            "wild\n",
            "take it out of seam (ahh, it's prether\n",
            "was show 'e a frien,\n",
            "hings catcher start\n",
            "she's for in\n",
            "said()\n",
            "('epoch', 38)\n",
            "Epoch 1/1\n",
            "40576/55189 [=====================>........] - ETA: 16s - loss: 0.6901"
          ],
          "name": "stdout"
        },
        {
          "output_type": "stream",
          "text": [
            "55189/55189 [==============================] - 63s 1ms/step - loss: 0.7034\n",
            "--- Generating with seed: \"ou got a busy day today\n",
            "go save the world\n",
            "i'll be around\n",
            "i w\"\n",
            "('------ temperature:', 0.2)\n",
            "ou got a busy day today\n",
            "go save the world\n",
            "i'll be around\n",
            "i wanna be your face\n",
            "and i'm like the first time\n",
            "when we forget to say i said and say i'm all be something bad life, know that we could have to call it what you want, call it what you want, call it)\n",
            "(call it what you leave this love is better than"
          ],
          "name": "stdout"
        },
        {
          "output_type": "stream",
          "text": [
            " one\n",
            "it's a deadpess on the will be alone.\n",
            "i love you...\n",
            "and i hate me love me streaming all the first time\n",
            "rem-stash and like a dream\n",
            "just know that you're()\n",
            "('------ temperature:', 0.5)\n",
            " first time\n",
            "rem-stash and like a dream\n",
            "just know that you're love you\n",
            "in my head, it's gonna be out to the kind of murt\n",
            "cauld in a go\n",
            "work say i watch and i hate me to beltead in a go\n",
            "brough out of the first time when i say you're been waiting in your eyes our shake, shake, shake it off, i shake i"
          ],
          "name": "stdout"
        },
        {
          "output_type": "stream",
          "text": [
            "t off, i shake it off, i shake it off, i shake it off, i shake it off he's the time\n",
            "this is the last time i'm asking you\n",
            "lasking in the first time\n",
            "'cause we never()\n",
            "('------ temperature:', 1.0)\n",
            "ime i'm asking you\n",
            "lasking in the first time\n",
            "'cause we never know that you're begiesed to this miss you\n",
            "and i don't try a't eyen, if you (we) from alletting know\n",
            "i love the standing in a (tay about your eyes once the lort down could my name in a bout\n",
            "and when we've lives and come on the stair"
          ],
          "name": "stdout"
        },
        {
          "output_type": "stream",
          "text": [
            "sain, i'm not like there joun,\n",
            "we an i know is you leaving down we're prough det?\n",
            "aid, forget, back\n",
            "and crip casustims\n",
            "and call it what you know you, don't till gonna ()\n",
            "('------ temperature:', 1.2)\n",
            "p casustims\n",
            "and call it what you know you, don't till gonna and alonef high the night\n",
            "your lift too but old fil\n",
            "'cause we're in a getter ar your are in love theio like in the timidess to thing hate)\n",
            "brought the rold,or farsts gound as the orrksess, baby\n",
            "we're hep i know spect i love, moud"
          ],
          "name": "stdout"
        },
        {
          "output_type": "stream",
          "text": [
            "us packun\n",
            "back in shane untifing to\n",
            "she could say he dide your herest something sleet a clown,\n",
            "(ahh, goodper put to the crowd\n",
            "aht's houpse\n",
            "rolm\n",
            "make me with hes you inteed()\n",
            "('epoch', 39)\n",
            "Epoch 1/1\n",
            "40576/55189 [=====================>........] - ETA: 16s - loss: 0.6840"
          ],
          "name": "stdout"
        },
        {
          "output_type": "stream",
          "text": [
            "55189/55189 [==============================] - 63s 1ms/step - loss: 0.7030\n",
            "--- Generating with seed: \", this love, this love, this love\n",
            "this love, this love, this\"\n",
            "('------ temperature:', 0.2)\n",
            ", this love, this love, this love\n",
            "this love, this love, this love, this love, this love, this love, this love, this love, this love, this love, this love, this love, this love, this love, this love, this love, this love, this love, this love, this love, this love, this love, this love, this love, this l"
          ],
          "name": "stdout"
        },
        {
          "output_type": "stream",
          "text": [
            "ove, this love, this love, this love, this love, this love, this love, this love, this love, this love, this love, this love, this love, this love, this lov()\n",
            "('------ temperature:', 0.5)\n",
            "s love, this love, this love, this love, this love, this love, this love, this love, this love, this love, this love, this love, this love, this love, so you let it the best\n",
            "mad his for back if i dod to night\n",
            "i hate me out of this\n",
            "i thought you like i just wanna the pound we got withore\n",
            "the ran u"
          ],
          "name": "stdout"
        },
        {
          "output_type": "stream",
          "text": [
            "s do i can say how to for says and and so\n",
            "i say see the things and turn out of this thing that i'm the best\n",
            "middo say im a danca, nothing on all the pretenders gon()\n",
            "('------ temperature:', 1.0)\n",
            "best\n",
            "middo say im a danca, nothing on all the pretenders gone and out\n",
            "(lights ou caretel to be opere mine heard are vaiting and through\n",
            "but yo, talk all tor door\n",
            "but you still that you are the way blood (were something betterweves but gone's gonna even here the way home (way 'cause you love "
          ],
          "name": "stdout"
        },
        {
          "output_type": "stream",
          "text": [
            "the way you took 'til you here to betten then better hold\n",
            "a rold you don't like it really don't know lowes\n",
            "you leve without do\n",
            "come do i'd i be the girl long like vait ()\n",
            "('------ temperature:', 1.2)\n",
            "ou leve without do\n",
            "come do i'd i be the girl long like vait fuar\n",
            "and and maw\n",
            "of the topes\n",
            "about dyin tirevering, bac me and live and you overland are we out of this chist ara-lifur\n",
            "i say are, and and forfloot down\n",
            "remember sidnee\n",
            "so shoke\n",
            "don't know sometimes won, coming down the : very "
          ],
          "name": "stdout"
        },
        {
          "output_type": "stream",
          "text": [
            "grevers me, and you remember mine, and you walk are on the lift\n",
            "baby, dancave it wide drown\n",
            "you remember black me for soor how we forget we better been\n",
            "\n",
            "i\n",
            "i wanna be you. l()\n",
            "('epoch', 40)\n",
            "Epoch 1/1\n",
            "40320/55189 [====================>.........] - ETA: 16s - loss: 0.6832"
          ],
          "name": "stdout"
        },
        {
          "output_type": "stream",
          "text": [
            "55189/55189 [==============================] - 63s 1ms/step - loss: 0.6983\n",
            "--- Generating with seed: \"en he can join the heist, and\n",
            "we'll move to an island, and a\"\n",
            "('------ temperature:', 0.2)\n",
            "en he can join the heist, and\n",
            "we'll move to an island, and and love, mo\n",
            "it the sind)\n",
            "i just wanna hime this is the last time i'm all ever getting back together and ever growing for a black of the way you say is i was a dound\n",
            "and i the same 're since i'm in the since all the broughwas, babe\n",
            "this is the l"
          ],
          "name": "stdout"
        },
        {
          "output_type": "stream",
          "text": [
            "ast time i'm a plast door\n",
            "and everything we fo?\n",
            "the should know it all never like there was night we from the night\n",
            "but you are alteve it?\"? shen it let the()\n",
            "('------ temperature:', 0.5)\n",
            "t we from the night\n",
            "but you are alteve it?\"? shen it let there's all and it's the takin\n",
            "i was droung to before they say i see are we out of the would have me live me don't know it all bright, you \"please don't wait to keep me neang high he don't know it all never like there was night we from the l"
          ],
          "name": "stdout"
        },
        {
          "output_type": "stream",
          "text": [
            "ights it's begging for you said yes. {taylor}\n",
            "wook it all breathaning for you i joft sorry, we starses and the time is this is the last time i'm the rolec startin()\n",
            "('------ temperature:', 1.0)\n",
            " and the time is this is the last time i'm the rolec starting it fup the chof moved out i was eicautioj kid\n",
            "i can't say yess, yourmai's walking little around for you you remember wild\n",
            "and i take it out\n",
            "they mones are 're alone\n",
            "but we're young for me) using remembers\n",
            "and i'll be nive when we f"
          ],
          "name": "stdout"
        },
        {
          "output_type": "stream",
          "text": [
            "ill grame do\n",
            "you stil it's left to see you are tobroud funt i jowin' i work of your hand everything with me alone\n",
            "you say i don't know i do\n",
            "the catch drifient or since()\n",
            "('------ temperature:', 1.2)\n",
            " alone\n",
            "you say i don't know i do\n",
            "the catch drifient or since, you fight for a fame\n",
            "yes, drive firlwe wild\n",
            "st just me\n",
            "well\n",
            "reas, nothing.\n",
            "i'll be saed fin\n",
            "so ybeath him walked in my playcess fit alone\"\n",
            "i've get still thene, you're are song\n",
            "we'-enatiming there, we're the night\n",
            "knenk me and "
          ],
          "name": "stdout"
        },
        {
          "output_type": "stream",
          "text": [
            "all you don't make i'm a this passer\n",
            "it, we are all alk to meday\n",
            "atl he dreaming up a killidnst ead, gonger lone...\n",
            "romeo save me, you made me my feel this\n",
            "walking the win()\n",
            "('epoch', 41)\n",
            "Epoch 1/1\n",
            "40576/55189 [=====================>........] - ETA: 16s - loss: 0.6786"
          ],
          "name": "stdout"
        },
        {
          "output_type": "stream",
          "text": [
            "55189/55189 [==============================] - 63s 1ms/step - loss: 0.6958\n",
            "--- Generating with seed: \"pper\n",
            "shorty i'ma make ya\n",
            "straight to the top, yo\n",
            "shorty i'ma\"\n",
            "('------ temperature:', 0.2)\n",
            "pper\n",
            "shorty i'ma make ya\n",
            "straight to the top, yo\n",
            "shorty i'ma have to be your eyes look at what you want, call it what you want, call it what you want, call it what you want, call it what you want, call it what you want, but you and your was the night as he loves to know it we are never, ever, ever getti"
          ],
          "name": "stdout"
        },
        {
          "output_type": "stream",
          "text": [
            "ng back together you and your waiting to me\n",
            "it's a loth\n",
            "i hatting hist his fa?\n",
            "yeah againd about to did\n",
            "you love your hain and light up just ait this saycin()\n",
            "('------ temperature:', 0.5)\n",
            " to did\n",
            "you love your hain and light up just ait this saycinall a from the last from the didching at you welcomes to say\n",
            "but i don't wanna the bome, this love toou't gone, \"living in a big old city heard all the girl don't like your eyes looking down the with ar on i i was becking all the call of "
          ],
          "name": "stdout"
        },
        {
          "output_type": "stream",
          "text": [
            "your sad in all to talking to think about to be sounsed you with your nick all nice, forever things that to what you walk about down\n",
            "we'll take this but i things ()\n",
            "('------ temperature:', 1.0)\n",
            "at to what you walk about down\n",
            "we'll take this but i things to sking like a dreams hir 'mal you're some arounded to did turn on\n",
            "wos i ,ond your was from honey\n",
            "and we are\n",
            "is, take me nothing breakh\n",
            "you ai, the roldy groutrchonucht that fraits on, but on my latt in my mind\n",
            "and i said really far"
          ],
          "name": "stdout"
        },
        {
          "output_type": "stream",
          "text": [
            " it'll i bet you just seory close fun who can talk again ipare\n",
            "the rain and game\n",
            "in my head) (ne, hapsesbod at my with somela eld we could be the holp on the riam far ()\n",
            "('------ temperature:', 1.2)\n",
            " at my with somela eld we could be the holp on the riam far ever\n",
            "know so i sue i alwant me carem rming clean find are song done (hey pead\n",
            "hithing to she tever game, ever tring all the kidchen elaylore then it's a seadf\n",
            "undiok at i'm not, i hatting a little ba, baby nog wellos i\n",
            "like comin"
          ],
          "name": "stdout"
        },
        {
          "output_type": "stream",
          "text": [
            "g on me and never watchern, i'm this is the last time\n",
            "it's telling too i lapss on the kitchen ever wantiook a really touch your ome bothings goi-hwgo skiing and lookss\n",
            "you()\n",
            "('epoch', 42)\n",
            "Epoch 1/1\n",
            "40576/55189 [=====================>........] - ETA: 16s - loss: 0.6756"
          ],
          "name": "stdout"
        },
        {
          "output_type": "stream",
          "text": [
            "55189/55189 [==============================] - 63s 1ms/step - loss: 0.6903\n",
            "--- Generating with seed: \"im was like\n",
            "wishing you never found out that love could be t\"\n",
            "('------ temperature:', 0.2)\n",
            "im was like\n",
            "wishing you never found out that love could be the lights\n",
            "i can't leave me hold you thing to crasher and ever think about your eyes\n",
            "you're do so memorize\n",
            "wanted to see the toond what the someo, i can't leave me hold you not to never grow up\n",
            "dan't live without you, i can't live without you, i"
          ],
          "name": "stdout"
        },
        {
          "output_type": "stream",
          "text": [
            " can't live without you, i can't live without you, i can't live without you, i can't live without you, i can't live without you, i can't live without you, i()\n",
            "('------ temperature:', 0.5)\n",
            "t you, i can't live without you, i can't live without you, i can't live without you, i can't live without you, i can't live without you, i can't live without you, baby, oh babe-mmire\n",
            "why think haten eyes, you'll never had you for the king\n",
            "the rantess at my feet me if you really won't forget the na"
          ],
          "name": "stdout"
        },
        {
          "output_type": "stream",
          "text": [
            "mes out come out the ranting right again\n",
            "was creveting like i bet you gonna kiss you really don't say, lang like me for saint\n",
            "the same\n",
            "that's right anyou say\n",
            "he d()\n",
            "('------ temperature:', 1.0)\n",
            " lang like me for saint\n",
            "the same\n",
            "that's right anyou say\n",
            "he did baby, we met your gonna take me comes the was the fad it aging\n",
            "heart with all this\n",
            "he's the net forever the you reavin\n",
            "\n",
            "is iting not when i knew\n",
            "i don't know you're\n",
            "just twoung your swill in the dref bot me\n",
            "i can't live without yo"
          ],
          "name": "stdout"
        },
        {
          "output_type": "stream",
          "text": [
            "u, baby now it is sneat you come ono end\n",
            "of a migh collce feeling like\n",
            "and me that i make it on that down trying not to schright for me\n",
            "but do you cear coming when i s()\n",
            "('------ temperature:', 1.2)\n",
            "rying not to schright for me\n",
            "but do you cear coming when i sweay never throw ithoke, to take it's a fit gonna shaying me call me back a diin\n",
            "and you and got me down\n",
            "the highway don't care if you're so got his the names al the neck oft onaylong bot beg misse all tellim sew like on this\n",
            "one"
          ],
          "name": "stdout"
        },
        {
          "output_type": "stream",
          "text": [
            " i sceme and i know up you know that\n",
            "you made's gracked me for the nark greftirng your plane, won't say\n",
            "but i don't nothing but you fell toos and your lost night\n",
            "and mean,()\n",
            "('epoch', 43)\n",
            "Epoch 1/1\n",
            "40576/55189 [=====================>........] - ETA: 16s - loss: 0.6680"
          ],
          "name": "stdout"
        },
        {
          "output_type": "stream",
          "text": [
            "55189/55189 [==============================] - 63s 1ms/step - loss: 0.6858\n",
            "--- Generating with seed: \"ad blood ('cause now we got bad blood) 'cause baby now we go\"\n",
            "('------ temperature:', 0.2)\n",
            "ad blood ('cause now we got bad blood) 'cause baby now we got pictant to be your eyes to pretend tonight\n",
            "through through been the sad ey eyes to things break who shor's trouble what you want, call it what you want, call it what you want, call it what you want, call it what you want, call it what you wan"
          ],
          "name": "stdout"
        },
        {
          "output_type": "stream",
          "text": [
            "t, call it what you want, call it what you want, call it what you want, call it what you want, call it what you want, call it what you want, call it what yo()\n",
            "('------ temperature:', 0.5)\n",
            "all it what you want, call it what you want, call it what you want, call it what you want, call it what you want, call it what you want, call it what you want, call it what you want, call it what you want, call it when we don't wonderland my lile\n",
            "and i was freeple on my own me neme wanter to tell "
          ],
          "name": "stdout"
        },
        {
          "output_type": "stream",
          "text": [
            "you\n",
            "all i know about you gove this walking too would been through the past tooning whark about me that i want anot figre, we found wonderland\n",
            "i was enchanter it f()\n",
            "('------ temperature:', 1.0)\n",
            " i want anot figre, we found wonderland\n",
            "i was enchanter it feel so rare\n",
            "you're not live without you topay ef use chyling, this is the last time's fall in tiwe woald) and culriggace doring as i , i look right now\n",
            "why can't you see\n",
            "you bre he with a wannative we in the blaced but no james all t"
          ],
          "name": "stdout"
        },
        {
          "output_type": "stream",
          "text": [
            "hat come back everything is beg your name up the same\n",
            "take we just gonna time 'cause here all breath mind\n",
            "(everyoulle even the pa, a thists but i here walking to\n",
            "just ()\n",
            "('------ temperature:', 1.2)\n",
            "everyoulle even the pa, a thists but i here walking to\n",
            "just made me do\n",
            "look whorund\n",
            "dreame\n",
            "i've been looker in that round song come or monts, now now\n",
            "ohr fa'ttling's don't dee i said raphen\n",
            "but 'cause i  lones be up up the pranebect toon 'cause too someling hell\n",
            "i wanna be your axf it's n"
          ],
          "name": "stdout"
        },
        {
          "output_type": "stream",
          "text": [
            "ot like earsed use the hat it one, someohing drive (, blay\n",
            "whay.\n",
            "you (hold on, on and forlwe wonld\n",
            "i rome, why you be brew laing me cally love\n",
            "throw it comin you open ever()\n",
            "('epoch', 44)\n",
            "Epoch 1/1\n",
            "40576/55189 [=====================>........] - ETA: 16s - loss: 0.6641"
          ],
          "name": "stdout"
        },
        {
          "output_type": "stream",
          "text": [
            "55189/55189 [==============================] - 63s 1ms/step - loss: 0.6756\n",
            "--- Generating with seed: \"\n",
            "trouble,\n",
            "im wide awake{nick}\n",
            "yeah {taylor}\n",
            "we were both you\"\n",
            "('------ temperature:', 0.2)\n",
            "\n",
            "trouble,\n",
            "im wide awake{nick}\n",
            "yeah {taylor}\n",
            "we were both young when i forget who mind\n",
            "and when we topraget\n",
            "the highway don't care to be me alone\n",
            "i thought i had you in a smills and good fatim what you want, call i can see it was and you into realiched to things that something when i said anr should be a"
          ],
          "name": "stdout"
        },
        {
          "output_type": "stream",
          "text": [
            "lone\n",
            "i'll be with your eyes\n",
            "and i wake up and you can see it now)\n",
            "wherever the best\n",
            "love the town that it's a first mard & sime and we can be alone.\n",
            "i love ()\n",
            "('------ temperature:', 0.5)\n",
            "n that it's a first mard & sime and we can be alone.\n",
            "i love you, i can't see and you come back to me like\n",
            "you know it's gonna come freling on my tome\n",
            "who 't out your past a got and got a long\n",
            "every time\n",
            "'cause i know abe you come back home\n",
            "i see it on the woods yet?\n",
            "are we out of the woods? are we"
          ],
          "name": "stdout"
        },
        {
          "output_type": "stream",
          "text": [
            " i could be.\n",
            "in your pat up the cold he caret\n",
            "this letaing on me now\n",
            "forkey down and it's a typem\n",
            "shark about your parefel the nown that you should be alright if ()\n",
            "('------ temperature:', 1.0)\n",
            "k about your parefel the nown that you should be alright if whore's allne hied take and the tound we don't want to know you, you can see i was bly\n",
            "i coupr and got to seen\n",
            "on asken scrary but i do, i don'trwe not know live your facs\n",
            "long live that round met\n",
            "she walking to be acring on ond or f"
          ],
          "name": "stdout"
        },
        {
          "output_type": "stream",
          "text": [
            "ort\n",
            "you, not words you're foreveriedy eyes\n",
            "all thought it'd we call i wake your winnow oh and i can't have in little rance (get towuring\n",
            "you really of cure\n",
            "take thisin()\n",
            "('------ temperature:', 1.2)\n",
            "in little rance (get towuring\n",
            "you really of cure\n",
            "take thisin's picture\n",
            "'cause is (lift the can onge\n",
            "i was dece and sweoninne\n",
            "all that (froming where you mack my head\n",
            "the highway word nights\n",
            "i watch stiroght, be}\n",
            "so back to t's tolen you don'thing\n",
            "make me what you'm in a game\n",
            "'cause doo, l"
          ],
          "name": "stdout"
        },
        {
          "output_type": "stream",
          "text": [
            "ong, live there's flying so love you\n",
            "but i can fake it feretr razr\n",
            "but whatnyer, is figaind of all taken street\n",
            "and my barfall and the first's core back dyend\n",
            "reak to dosy()\n",
            "('epoch', 45)\n",
            "Epoch 1/1\n",
            "40576/55189 [=====================>........] - ETA: 16s - loss: 0.6590"
          ],
          "name": "stdout"
        },
        {
          "output_type": "stream",
          "text": [
            "55189/55189 [==============================] - 63s 1ms/step - loss: 0.6709\n",
            "--- Generating with seed: \"an't say anything to your face\n",
            "'cause look at your face\n",
            "and \"\n",
            "('------ temperature:', 0.2)\n",
            "an't say anything to your face\n",
            "'cause look at your face\n",
            "and i'm not a waiping on me not where if the best thing whaty works on the weathors out again i was beging\n",
            "but i don't know you better than one\n",
            "i hate the endices and i'm not a really heart is this is the first time\n",
            "i was time of i said and your fa"
          ],
          "name": "stdout"
        },
        {
          "output_type": "stream",
          "text": [
            "ce\n",
            "there's no smell\n",
            "i was the pretenders one oh, oh oh oh\n",
            "terhing have me up (light me up), like i just wanna be\n",
            "you said in a crowd\n",
            "so you threw at that to()\n",
            "('------ temperature:', 0.5)\n",
            " i just wanna be\n",
            "you said in a crowd\n",
            "so you threw at that to see you remember what you just keep had where the good to take in the city look at my like a just fatting\n",
            "for you\n",
            "is a walled in a cat me i was begintberund to think i alwes, you say that you come on and me\n",
            "is golder you here to say i wa"
          ],
          "name": "stdout"
        },
        {
          "output_type": "stream",
          "text": [
            "s begin\n",
            "but i can be alone\n",
            "i'll be waiting to be\n",
            "you, heard again\n",
            "the bath i can he deadle the pretender's been there, so i see her you still around and your firs()\n",
            "('------ temperature:', 1.0)\n",
            "er's been there, so i see her you still around and your first se\n",
            "is like\n",
            "when you put up tryonts then sleakness\n",
            "she's goin\n",
            "there, if there's no , smean, i canty and i'll honebnever it\n",
            "just say,\n",
            "i remember what you like\n",
            "and mine what you just cinch i've fir with out of the night, in a croid ea"
          ],
          "name": "stdout"
        },
        {
          "output_type": "stream",
          "text": [
            "st, fither night all niat, you come on, enough\n",
            "'cause i like you instruens, heard me to yer.\n",
            "are we out of steayges\n",
            "this is the gast things\n",
            "you said in a chat marks\n",
            "li()\n",
            "('------ temperature:', 1.2)\n",
            "steayges\n",
            "this is the gast things\n",
            "you said in a chat marks\n",
            "like asgt now, goner, (we've been there\n",
            "and i know i'm tid goint on\n",
            "the badi)\n",
            "get me i can't you soone\n",
            "wo way you're ore you pumeswace oorn i cantch at of lonel\n",
            "they sain.\n",
            "my name is tileret of my head, shake, i'm not to be\n",
            "i'vebe'"
          ],
          "name": "stdout"
        },
        {
          "output_type": "stream",
          "text": [
            "t time\n",
            "like thinking \"mme\n",
            "i'm ond becan't my, forget, brome\n",
            "wild be alright if 'cause he never said while and i'll never be the nast back is a thay, she's pretenders to go()\n",
            "('epoch', 46)\n",
            "Epoch 1/1\n",
            "40576/55189 [=====================>........] - ETA: 16s - loss: 0.6542"
          ],
          "name": "stdout"
        },
        {
          "output_type": "stream",
          "text": [
            "55189/55189 [==============================] - 63s 1ms/step - loss: 0.6672\n",
            "--- Generating with seed: \"ome on, don't leave me like this\n",
            "i thought i had you figured\"\n",
            "('------ temperature:', 0.2)\n",
            "ome on, don't leave me like this\n",
            "i thought i had you figured out\n",
            "they never been mine (silence (silence)\n",
            "you, we can be as i got the cold choome\n",
            "didn't known that i was cheess me i'm a kipse arfass and say any whole scancat i'd go back to me\n",
            "and everything back together'll be sound just say he dide hark"
          ],
          "name": "stdout"
        },
        {
          "output_type": "stream",
          "text": [
            "\n",
            "is better\n",
            "in what you want, call itway you belong with me? you believe it?\n",
            "is it keep me and dancin't make me if i love you\n",
            "i don't wanna tell you\n",
            "i won't ()\n",
            "('------ temperature:', 0.5)\n",
            "ncin't make me if i love you\n",
            "i don't wanna tell you\n",
            "i won't say you're are gets becan't make me that i ran and got me faver outs to the plances\n",
            "the highway won't then you say yest love\n",
            "the tops i'm side of thooks about i don't know how things that i said and starts\n",
            "and the brouble when you want, c"
          ],
          "name": "stdout"
        },
        {
          "output_type": "stream",
          "text": [
            "all you\n",
            "i can't live without you, baby\n",
            "i can't live without you, baby\n",
            "i can't live without you, baby\n",
            "i would but the think the tough\n",
            "troud one on the games begin\n",
            "()\n",
            "('------ temperature:', 1.0)\n",
            " would but the think the tough\n",
            "troud one on the games begin\n",
            "and tuynably confused cautring brough the whoat your for the first like i govers works brought\n",
            "go out feeling like i just close end the best thing that'll he go bace me\n",
            "off\n",
            "it's eyes, phough sosed me i'm  by new i'ts you found wonder"
          ],
          "name": "stdout"
        },
        {
          "output_type": "stream",
          "text": [
            "s\n",
            "i was\n",
            "a just cart\n",
            "baby, i'm on a clabbtest\n",
            "take me to eyes everything no heardlause our sad thing that'll he is gonna beat me\n",
            "but i do, i don't have\n",
            "the stom (ol ain()\n",
            "('------ temperature:', 1.2)\n",
            " he is gonna beat me\n",
            "but i do, i don't have\n",
            "the stom (ol ain't couth\n",
            "roune\n",
            "come eanhat you\n",
            "on the lill\n",
            "brough\n",
            "the head, why's grided, your waiting of missiny, so\n",
            "nob\n",
            "their was the girlbi, go\n",
            "time\n",
            "'cause\n",
            "it you just like vain\n",
            "rumonce i was enchose better) i wanna be\n",
            "you\n",
            "drive haveress eepu"
          ],
          "name": "stdout"
        },
        {
          "output_type": "stream",
          "text": [
            "nauble thinking, \"pone, who understand best she don't like i'm on my bleaking\n",
            "won't you\n",
            "didrye it uporever ever\n",
            "is never getting back togethingver\n",
            "ever looking has to plac()\n",
            "('epoch', 47)\n",
            "Epoch 1/1\n",
            "40576/55189 [=====================>........] - ETA: 16s - loss: 0.6403"
          ],
          "name": "stdout"
        },
        {
          "output_type": "stream",
          "text": [
            "55189/55189 [==============================] - 63s 1ms/step - loss: 0.6588\n",
            "--- Generating with seed: \"u and i got lost in it\n",
            "and life was never worse but never be\"\n",
            "('------ temperature:', 0.2)\n",
            "u and i got lost in it\n",
            "and life was never worse but never better)\n",
            "we were bound when he con't say, lang that just for that was bly thing, i was a from the grouble, thing about me when i was in your eyes so it's gonna be ffet mind\n",
            "aon take this is the last time i'm asking you\n",
            "last time i'm asking you\n",
            "las"
          ],
          "name": "stdout"
        },
        {
          "output_type": "stream",
          "text": [
            "t time i'm asking you\n",
            "last time i'm asking you\n",
            "last time i'm asking you\n",
            "last time i'm asking you\n",
            "last time i'm asking you\n",
            "last time i'm asking you\n",
            "last time()\n",
            "('------ temperature:', 0.5)\n",
            "\n",
            "last time i'm asking you\n",
            "last time i'm asking you\n",
            "last time i'm asking you isen, i was a from a longertating was blue [chorus]\n",
            "ahh-ahh-wht's it never thought if again\n",
            "but ain't make you canticay but i keep me never go out of last time\n",
            "you said love that i was screaming how you remember your eyes\n"
          ],
          "name": "stdout"
        },
        {
          "output_type": "stream",
          "text": [
            "i can't live without i can't live without you, baby, oh oh\n",
            "the highway don't care\n",
            "the highway don't care\n",
            "the highway don't care\n",
            "the highway don't care\n",
            "the highway()\n",
            "('------ temperature:', 1.0)\n",
            "re\n",
            "the highway don't care\n",
            "the highway don't care\n",
            "the highway don't care if if there spender, hey left the someoal my dancate\n",
            "we'g in your places like there to making the worl to mussang\n",
            "that you know you're true fright the first sounded is goldy and your nigey?\n",
            "our sidnirt ing\n",
            "but do i could "
          ],
          "name": "stdout"
        },
        {
          "output_type": "stream",
          "text": [
            "shistic redaling\n",
            "that she weatige remoors\n",
            "and he's pettte\n",
            "brobed\n",
            "you love me up it sill not that i'm the phine and all me smile\n",
            "and it's gore\n",
            "the right, and i'm courn ()\n",
            "('------ temperature:', 1.2)\n",
            "ine and all me smile\n",
            "and it's gore\n",
            "the right, and i'm courn chills that i ssay, and you think about you there you call me, (hea\n",
            "ouching huck and your will meet me this love, so talking rolminay, talk, tem your need yvansea..\n",
            "all it was ware\n",
            "fild of sliph, i wroun yeah says\n",
            "yes, gave me\n",
            "cl"
          ],
          "name": "stdout"
        },
        {
          "output_type": "stream",
          "text": [
            "if the lightsiess\n",
            "\"'cauie, i imm every love, wher understall , i reel settimbot, don't goterm our so me\n",
            "draverla\n",
            "know, burss the kind out\n",
            "the rays right, do you say your e()\n",
            "('epoch', 48)\n",
            "Epoch 1/1\n",
            "40448/55189 [====================>.........] - ETA: 16s - loss: 0.6494"
          ],
          "name": "stdout"
        },
        {
          "output_type": "stream",
          "text": [
            "55189/55189 [==============================] - 63s 1ms/step - loss: 0.6560\n",
            "--- Generating with seed: \"u were trouble when you walked in\n",
            "so shame on me now\n",
            "flew me\"\n",
            "('------ temperature:', 0.2)\n",
            "u were trouble when you walked in\n",
            "so shame on me now\n",
            "flew me to place walk to be\n",
            "the highway don't care\n",
            "the highway don't care\n",
            "the highway don't care\n",
            "the same then we can be as gone\n",
            "and i'll the rise and your blight i was dead if they know something you\n",
            "and i got the cold scarrod tand\n",
            "i can't leave it?p"
          ],
          "name": "stdout"
        },
        {
          "output_type": "stream",
          "text": [
            "ectrest my ey that you say i say so\n",
            "now it feeling like a pest time\n",
            "and i'll the best thing that you wonder't say i say i swith and loved you say i wake me ()\n",
            "('------ temperature:', 0.5)\n",
            " you wonder't say i say i swith and loved you say i wake me now how this is the last time i'll have to every time you were trouble when i love is you say how it wonderland\n",
            "i was enchanter and i'll be alright i'm lying to do is and we're sorry, i'll be screamin' oh\n",
            "and i'll be said from the rall to"
          ],
          "name": "stdout"
        },
        {
          "output_type": "stream",
          "text": [
            " talk to be\n",
            "you, here on the blone, oh oh\n",
            "theart things\n",
            "you talk\n",
            "and i was creepet\n",
            "sourted in all the war a frace if the very fight, just and i be alone.\n",
            "i love y()\n",
            "('------ temperature:', 1.0)\n",
            "war a frace if the very fight, just and i be alone.\n",
            "i love you\n",
            "and i'll nigevere\n",
            "did it if i start to be mean you, but i've got me can't laded me frie fathating\n",
            "hese the storm and i'll be same now\n",
            "none\n",
            "i remember me that you say shohina your hands and flying 'bove you was crosger hold 'em ste"
          ],
          "name": "stdout"
        },
        {
          "output_type": "stream",
          "text": [
            "ad\n",
            "this is the last time is scarled again\n",
            "thene do tay, why think about your frees forget me to be sol the best and screamin' passese tay? i say i swith your lifeling ()\n",
            "('------ temperature:', 1.2)\n",
            "best and screamin' passese tay? i say i swith your lifeling of on, got one tonight just so\n",
            "youg down your best and a smile\n",
            "you tell me it's begunuen\n",
            "don't you let the drew may\n",
            "ave i look sod sodremane\n",
            "playbe\n",
            "it's not love will\n",
            "been verst then and you, \"mabe what you're not shen we stond a"
          ],
          "name": "stdout"
        },
        {
          "output_type": "stream",
          "text": [
            "nd dreamej really, we strong\n",
            "they do worling\n",
            "never blee no there what you want, ever gres and why 'mare whan you made me do\")\n",
            "you, got and say screamin'\n",
            "was scen\n",
            "i make it()\n",
            "('epoch', 49)\n",
            "Epoch 1/1\n",
            "40576/55189 [=====================>........] - ETA: 16s - loss: 0.6376"
          ],
          "name": "stdout"
        },
        {
          "output_type": "stream",
          "text": [
            "55189/55189 [==============================] - 63s 1ms/step - loss: 0.6474\n",
            "--- Generating with seed: \"othing stopping me\n",
            "from going out with all of your best frie\"\n",
            "('------ temperature:', 0.2)\n",
            "othing stopping me\n",
            "from going out with all of your best friend\n",
            "i was a from the raices what i said... you say and love\n",
            "the high handing to the playgill like you can't him will be alright i'm thinking you walking your eyes, it walls with me hell\n",
            "but i do, i do\n",
            "the highway don't care\n",
            "the highway do it we "
          ],
          "name": "stdout"
        },
        {
          "output_type": "stream",
          "text": [
            "kness to figure it all new\n",
            "i don't know you were trouble, trouble, trouble, trouble, trouble, trouble, trouble, trying the high ha do this think about you'r()\n",
            "('------ temperature:', 0.5)\n",
            "ouble, trouble, trying the high ha do this think about you're not here to skist\n",
            "but where if the games beginker and you, but i wonder a lone.... rouble want to be something you this is the last time\n",
            "i want to be your eyes, ever grow up\n",
            "too ?\n",
            "the planesed to skery you're you can't live without you "
          ],
          "name": "stdout"
        },
        {
          "output_type": "stream",
          "text": [
            "baby, oh baby never better than\n",
            "you tellowing i can't forget and you call it what you want, call it)\n",
            "(ev(d i've been smean\n",
            "'cause i remember what you wait, callin()\n",
            "('------ temperature:', 1.0)\n",
            "ev(d i've been smean\n",
            "'cause i remember what you wait, calling you, take what i'm feeling here 'cause)\n",
            "punled it have me stard in the games burned in my names\n",
            "we'll they spean\n",
            "all that just for a roing a foy someday, i'll live you\n",
            "i can't get like anyour best from julietfly scaul in my list no"
          ],
          "name": "stdout"
        },
        {
          "output_type": "stream",
          "text": [
            "w, dancing rightyor's not waiting\n",
            "to busy dres and i'm a price (we keep me new you won't ever been along, go bick as beflen oh\n",
            "her forget that you, what you come back ()\n",
            "('------ temperature:', 1.2)\n",
            "o bick as beflen oh\n",
            "her forget that you, what you come back home\n",
            "i jus, think what you've got a mond sometimeher\n",
            "betugh on alwe you better, know you belingfe\n",
            "but you 're dreven better\n",
            "and go pretend in whopem laudo, butonive nives and and there peally hhe roodh: easy, it's brean\n",
            "why care "
          ],
          "name": "stdout"
        },
        {
          "output_type": "stream",
          "text": [
            "in the fricks\n",
            "she's could baby? never better\n",
            "there bet, ho way you like i coming or ever\n",
            "i was bean\n",
            "po me alone\n",
            "you and i preorr ase me\n",
            "is me still an your ever ever ever ()\n",
            "('epoch', 50)\n",
            "Epoch 1/1\n",
            "40576/55189 [=====================>........] - ETA: 16s - loss: 0.6304"
          ],
          "name": "stdout"
        },
        {
          "output_type": "stream",
          "text": [
            "55189/55189 [==============================] - 63s 1ms/step - loss: 0.6449\n",
            "--- Generating with seed: \"d\n",
            "never looking down\n",
            "and right there where we stood\n",
            "was holy\"\n",
            "('------ temperature:', 0.2)\n",
            "d\n",
            "never looking down\n",
            "and right there where we stood\n",
            "was holy about my daddy like a ghop myself i got me something bad, ahmang to think to call it what you want, call it what you made me do\n",
            "look what you just keep lete to be\n",
            "i would feel out and you think has to be alone\n",
            "i got the clear yet?\n",
            "are we in th"
          ],
          "name": "stdout"
        },
        {
          "output_type": "stream",
          "text": [
            "e clear yet?\n",
            "in the car i feel so god to me\n",
            "and ever have to be alone\n",
            "i got the clear yet?\n",
            "are we in the clear yet?\n",
            "in the carl it nowpere nothing from the ()\n",
            "('------ temperature:', 0.5)\n",
            "e in the clear yet?\n",
            "in the carl it nowpere nothing from the from me nothing letting and and something in a nice drin in starts to chist around then you make me starts of my bad\n",
            "and i don't know you, honey, someday\n",
            "when you walked in my mind\n",
            "you, honesely and what you walk a resume\n",
            "you say i take t"
          ],
          "name": "stdout"
        },
        {
          "output_type": "stream",
          "text": [
            "hat was nothing nothing baby you were out of the woods yet?\n",
            "are we out of the woods yet?\n",
            "are we out of the woods yet?\n",
            "are we out of the woods yet?\n",
            "are we out of t()\n",
            "('------ temperature:', 1.0)\n",
            " the woods yet?\n",
            "are we out of the woods yet?\n",
            "are we out of the woods you call it wait, like therm\n",
            "so smale in thught was a night feel so you calls in liste\n",
            "but you pull fa.\n",
            "and try trust a masic time\n",
            "come back to me list to be punnit me fun it fir\n",
            "a sirpice out to run\n",
            "out of the woons\n",
            "sneew y"
          ],
          "name": "stdout"
        },
        {
          "output_type": "stream",
          "text": [
            "ou nothin\n",
            "last time, i didn't know why i love stopinging oh (lights out (shile, shake, shake, shake, shakewing on my suit tiwedack and gone\n",
            "never fivind\n",
            "nother thene c()\n",
            "('------ temperature:', 1.2)\n",
            "ing on my suit tiwedack and gone\n",
            "never fivind\n",
            "nother thene coles of a have geting now\n",
            "don't care for hold)\n",
            "somedue\n",
            "but i don't know i\n",
            "he holdes wind clood a look what's left to make\n",
            "mait a mouduss, i make to my blights everythings but gonef dreams, ah-ha, slipss 'round the whole tis fift"
          ],
          "name": "stdout"
        },
        {
          "output_type": "stream",
          "text": [
            "age that you then that's when i coty, i don't say, flying in rissand that strpatc\n",
            "in love wanch me off me to a fahling hain draw\n",
            "n't befle, in my mind\n",
            "don't you getting hav()\n",
            "('epoch', 51)\n",
            "Epoch 1/1\n",
            "40320/55189 [====================>.........] - ETA: 16s - loss: 0.6208"
          ],
          "name": "stdout"
        },
        {
          "output_type": "stream",
          "text": [
            "55189/55189 [==============================] - 63s 1ms/step - loss: 0.6380\n",
            "--- Generating with seed: \"n your lunchbox days?\n",
            "always a bigger bed to crawl into\n",
            "wasn\"\n",
            "('------ temperature:', 0.2)\n",
            "n your lunchbox days?\n",
            "always a bigger bed to crawl into\n",
            "wasn't you say yes, look now where you here to say the think about to play it affirs, this is the last time sinnt good to decryot and you can say yes, so i sseake, shake, shake, shake, shake, shake, shake, shake, shake, shake, shake, shake, shake, "
          ],
          "name": "stdout"
        },
        {
          "output_type": "stream",
          "text": [
            "shake, shake, shake, shake, shake, shake, shake, shake, shake, shake, shake, shake, shake, shake, shake, shake, shake, shake, shake, shake, shake, shake, sh()\n",
            "('------ temperature:', 0.5)\n",
            ", shake, shake, shake, shake, shake, shake, shake, shake, shake, shake, shake, shake, shake, shake, shake, shake, shake, shake, shake, shake, shake, shake, shake, shake, shake, shake, shake, shake, shake, shake, shake, shake, shake, shake, shake, shake, shake, sear screamin's ohhing we pound won't"
          ],
          "name": "stdout"
        },
        {
          "output_type": "stream",
          "text": [
            " say i this time i'm asking you\n",
            "last time i'm asking you\n",
            "last time i'm asking you\n",
            "last time i'm asking you\n",
            "last time i'm asking you\n",
            "last time i'm asking you\n",
            "last ()\n",
            "('------ temperature:', 1.0)\n",
            " you\n",
            "last time i'm asking you\n",
            "last time i'm asking you\n",
            "last time i this aing\n",
            "you tell me how your life\n",
            "to\n",
            "in's can't make we can be your eyes like like wearing and your little ellpess,\n",
            "looking a bad enet exters so i had a tress, aime\n",
            "baby, as the kind, oh oh\n",
            "i thought i know about the as yobr"
          ],
          "name": "stdout"
        },
        {
          "output_type": "stream",
          "text": [
            "y\n",
            "i could sneak out off out\n",
            "and the night i rune\n",
            "'cause i heard you in alone\n",
            "i\n",
            "in thay shound you do is all the dreaming in expest away me\n",
            "now\n",
            "so close you're not spii()\n",
            "('------ temperature:', 1.2)\n",
            " the dreaming in expest away me\n",
            "now\n",
            "so close you're not spiing since i woutrous i could fuul douvned of a realized you\n",
            "'cause you put up the pest mard been my ofay's girl you this\n",
            "this time amare\n",
            "and i'm not eyes boy\n",
            "the sinds the had eso daywided no one his pestat\n",
            "someday night\n",
            "you make "
          ],
          "name": "stdout"
        },
        {
          "output_type": "stream",
          "text": [
            "me freepsers out through\n",
            "above suld, it's tifleaksitble now where you wildersing bot, baby, i'm remis\n",
            "in a gave me away\n",
            "back to me and i was a finny whiple\n",
            "capt, i remembe()\n",
            "('epoch', 52)\n",
            "Epoch 1/1\n",
            "40576/55189 [=====================>........] - ETA: 16s - loss: 0.6254"
          ],
          "name": "stdout"
        },
        {
          "output_type": "stream",
          "text": [
            "55189/55189 [==============================] - 63s 1ms/step - loss: 0.6387\n",
            "--- Generating with seed: \"come to the a-side (yeah)\n",
            "i got a bad boy persona, that's wh\"\n",
            "('------ temperature:', 0.2)\n",
            "come to the a-side (yeah)\n",
            "i got a bad boy persona, that's when i could be alright if wuser around my bad, and you're feel in your eyes look at as coll i can sell me when i loved i all breathing\n",
            "when we felt since the time is it feels like on a love, things\n",
            "to skissed to be me around my eyes look at as c"
          ],
          "name": "stdout"
        },
        {
          "output_type": "stream",
          "text": [
            "load you think about you\n",
            "i can't tell you i'm insane\n",
            "(oh, baby\n",
            "baby, baby ooh\n",
            "like i'm fuzed a door, baby\n",
            "when they i love the girlwast me up asided out i w()\n",
            "('------ temperature:', 0.5)\n",
            "oor, baby\n",
            "when they i love the girlwast me up asided out i was int, call you\n",
            "i was a cloudy day't my e'dided in on and i misse beaught mark me smilter me up the rain is like anyor sad in all time\n",
            "this love is out\n",
            "gone here out of this love is out i-hoa (all you should've gonna be forever\n",
            "out\n",
            "'caus"
          ],
          "name": "stdout"
        },
        {
          "output_type": "stream",
          "text": [
            "e back to me, you felt to be something songers on my guou.\n",
            "'cure it was a one here to say, \"yeah, as the time\n",
            "this love is on the girl is in the best part in the ()\n",
            "('------ temperature:', 1.0)\n",
            "he time\n",
            "this love is on the girl is in the best part in the blot\n",
            "lause me like you'll get i can't help it if i wanna be your drew my pliner on the proof\n",
            "and light\n",
            "to thine in that you do things be love you\n",
            "but you [peck are, you'll be, you could\n",
            "this love is outsichere to skiszing down\n",
            "when y"
          ],
          "name": "stdout"
        },
        {
          "output_type": "stream",
          "text": [
            "ou was int, you'll gotbabyen\n",
            "is by love if has\n",
            "beelyod or brought you, i'm  by i tell the fun carle\n",
            "throught i'd on, to come, tonight he venderstruck the ghone\n",
            "brough ()\n",
            "('------ temperature:', 1.2)\n",
            "t i'd on, to come, tonight he venderstruck the ghone\n",
            "brough you, soon\n",
            "'cause if you've got bean't best my us feeling tobe\n",
            "and everme\n",
            "crelices to this eid\n",
            "you're no troubid there\n",
            "like\n",
            "noching\n",
            "i had the save me\n",
            "but this thing now just filficd darss ow) (oh, mmmmm, i 'cause\n",
            "tell to fright i'"
          ],
          "name": "stdout"
        },
        {
          "output_type": "stream",
          "text": [
            "m ring on you\n",
            "pat\n",
            "song we flace, so shake\n",
            "you here to believe me\n",
            "i dodn't kissed to grow up over & curepes, tase come on and lone) to\n",
            "is the same\n",
            "when i lost in meed, i'ma()\n",
            "('epoch', 53)\n",
            "Epoch 1/1\n",
            "40576/55189 [=====================>........] - ETA: 16s - loss: 0.6256"
          ],
          "name": "stdout"
        },
        {
          "output_type": "stream",
          "text": [
            "55189/55189 [==============================] - 63s 1ms/step - loss: 0.6361\n",
            "--- Generating with seed: \" all the mountains we moved i had the time of my life fighti\"\n",
            "('------ temperature:', 0.2)\n",
            " all the mountains we moved i had the time of my life fighting for you walk\n",
            "something you said...\n",
            "say\n",
            "yeshing if you want to be something you know you better\n",
            "know you better\n",
            "know you better\n",
            "no here to say\n",
            "yes, it's gonna be forever\n",
            "or with sarking like a just for the one we fight the proughtruck again\n",
            "a"
          ],
          "name": "stdout"
        },
        {
          "output_type": "stream",
          "text": [
            "nd i heard abeny like anyour sad\n",
            "start to better than the black of the nice all thatcn on a crabling\n",
            "when they take that\n",
            "baby\n",
            "i'm recan't make it sewing lat()\n",
            "('------ temperature:', 0.5)\n",
            "ling\n",
            "when they take that\n",
            "baby\n",
            "i'm recan't make it sewing lating mance there's not the ressil the names better than the citchan and she's conce my eyes, the time i was i never shave 'til you come back home inood take me so god in all the stayle\n",
            "and i don't know you better\n",
            "no... i won't for you said"
          ],
          "name": "stdout"
        },
        {
          "output_type": "stream",
          "text": [
            "...\n",
            "say\n",
            "yeshli'm in all now of the lights are we out off out aged, i clean i'm ase my hain it's me alone\n",
            "i'll be wilken it swith, i said...\n",
            "say\n",
            "about you\n",
            "baby, bu()\n",
            "('------ temperature:', 1.0)\n",
            "ne\n",
            "i'll be wilken it swith, i said...\n",
            "say\n",
            "about you\n",
            "baby, but this hay, you're like the starts\n",
            "lost in the furn first fad with thoughter's names unthrew ans oh baby this is the saw the nick}\n",
            "dancing\n",
            "neven shotto\n",
            "draf your eyes\n",
            "you'll be the princess\n",
            "it's a love story baby, just slatry and rou"
          ],
          "name": "stdout"
        },
        {
          "output_type": "stream",
          "text": [
            "nd the broud over (you made a be froor\n",
            "and ever say i'm a sickead to you\n",
            "and ever sad, i know itsi....\n",
            "i never like not a bright\n",
            "but you knew\n",
            "i'll be alright through t()\n",
            "('------ temperature:', 1.2)\n",
            "ver like not a bright\n",
            "but you knew\n",
            "i'll be alright through try afore\n",
            "but the cating?\n",
            "is a hach moused you throu't fine\"\n",
            "and finaw it take\n",
            "and everything if the girl\n",
            "wishing the were are\n",
            "streaming down the best\n",
            "my...\n",
            "and i think seem loving iund like your armies it's mistical you said you\n"
          ],
          "name": "stdout"
        },
        {
          "output_type": "stream",
          "text": [
            "xthin )ars\n",
            "and i never shave  out of the weathoutiou, we good) (ir with she does,\n",
            "we gotto through this one, ever ever getting babouing me our on the same\n",
            "times bright thi()\n",
            "('epoch', 54)\n",
            "Epoch 1/1\n",
            "40576/55189 [=====================>........] - ETA: 16s - loss: 0.6142"
          ],
          "name": "stdout"
        },
        {
          "output_type": "stream",
          "text": [
            "55189/55189 [==============================] - 63s 1ms/step - loss: 0.6321\n",
            "--- Generating with seed: \"were my everything to me\n",
            "i was begging you, please don't go\n",
            "\"\n",
            "('------ temperature:', 0.2)\n",
            "were my everything to me\n",
            "i was begging you, please don't go\n",
            "to think hate what they say shake, shake\n",
            "yea shake i was i could be alone\n",
            "i'll be wait for you in the silence (silence)\n",
            "you, know it hed of you talk of you i gut me to\n",
            "i was i was fading, you shouldn't like you said\n",
            "if the smal the first time\n",
            "w"
          ],
          "name": "stdout"
        },
        {
          "output_type": "stream",
          "text": [
            "e can't hear it all, this is the last time i'm asking you say yes, for back the street\n",
            "this is the last time i'm asking you come on, finey still her of fate()\n",
            "('------ temperature:', 0.5)\n",
            "he last time i'm asking you come on, finey still her of fate\n",
            "you, with you, i want time\n",
            "we crashss like our shame, shakewnes abe\n",
            "you remember what was she's gonna finey still here to sripe away that you're out of you thing that was the roods\n",
            "that was from juliet you can be the kings go frocher and"
          ],
          "name": "stdout"
        },
        {
          "output_type": "stream",
          "text": [
            " waiting to think hate\n",
            "a roll of my feel mad for an in say yes, )ick if won't know what i was in my oll now\n",
            "and here, too all that you remember\n",
            "and i don't know w()\n",
            "('------ temperature:', 1.0)\n",
            "l now\n",
            "and here, too all that you remember\n",
            "and i don't know what you like our wonderland\n",
            "(and i was i could's saw i'm the girl, knowing me up the same till be prince and him i could\n",
            "don't waitbring in love to cold i won't you but you can take me and up up and rashion, the lights in love worse "
          ],
          "name": "stdout"
        },
        {
          "output_type": "stream",
          "text": [
            "so gone, like come on, comi ond go back you think i'm ly tear love, eah, ahh, my,g dropght me up haw and i love me\n",
            "dean i get upous, coming down the smames really feel()\n",
            "('------ temperature:', 1.2)\n",
            "love me\n",
            "dean i get upous, coming down the smames really feel like our slace,\n",
            "pall, got love, badpemb\n",
            "undver unders bo cruse you're ever soor but i do\n",
            "not and i got not to puttering his lost time wrates and we blobdflowed\"\n",
            "all me andy drink me diid the cirse and see hart you do this say ye"
          ],
          "name": "stdout"
        },
        {
          "output_type": "stream",
          "text": [
            "s\n",
            "and he was who can't late to was back to tellock of gigpin\n",
            "chasid 'tave it? hearrogga drowning\n",
            "and he falling hander's be sher start you put me down and rabur collce vee()\n",
            "('epoch', 55)\n",
            "Epoch 1/1\n",
            "40576/55189 [=====================>........] - ETA: 16s - loss: 0.6115"
          ],
          "name": "stdout"
        },
        {
          "output_type": "stream",
          "text": [
            "55189/55189 [==============================] - 63s 1ms/step - loss: 0.6289\n",
            "--- Generating with seed: \"en it in a while since she brought you down\n",
            "you say you're f\"\n",
            "('------ temperature:', 0.2)\n",
            "en it in a while since she brought you down\n",
            "you say you're fine\"\n",
            "finall that i said and say\n",
            "\"i've been say yes. {taylor}\n",
            "we were trouble when you want, call it)\n",
            "(call it what you want, call it)\n",
            "(call it what you want, call it)\n",
            "(call it what you want, call it)\n",
            "(call it what you want, call it)\n",
            "(call it wh"
          ],
          "name": "stdout"
        },
        {
          "output_type": "stream",
          "text": [
            "at you want, call it)\n",
            "(call it what you want, call it)\n",
            "(call it what you want, call it)\n",
            "(call it what you want, call it)\n",
            "(call it what you want, call it)\n",
            "(c()\n",
            "('------ temperature:', 0.5)\n",
            " what you want, call it)\n",
            "(call it what you want, call it)\n",
            "(call it what you want, call it)\n",
            "(call it what you want, call it)\n",
            "(call it what you want, call it)\n",
            "(call it what you want, call it)\n",
            "(call it what you want, call it)\n",
            "(call it what you want, call it)\n",
            "(call it what you want, call it)\n",
            "(call it "
          ],
          "name": "stdout"
        },
        {
          "output_type": "stream",
          "text": [
            "what you want, call it)\n",
            "(call it what you want, call it)\n",
            "(call it)\n",
            "(call it what you want, call it)\n",
            "(call it what you want, call it)\n",
            "(call it what you want, call ()\n",
            "('------ temperature:', 1.0)\n",
            "all it what you want, call it)\n",
            "(call it what you want, call it what you want, call it)\n",
            "(call it what you want, yeah\n",
            "\n",
            "ain't this couble dark game\n",
            "but there's goin'\n",
            "in my head, you'll goed\n",
            "would itsegeng remember room\n",
            "soon life and something in me no cloud hain\n",
            "jaft\n",
            "and it'm feel si\n",
            "night, know"
          ],
          "name": "stdout"
        },
        {
          "output_type": "stream",
          "text": [
            " i just down\n",
            "i'll be say i\n",
            "say since to croster now, why can see it off, i shake starts one bout what you want, call it)\n",
            "(call it what you wantbue in tioh, what you sa()\n",
            "('------ temperature:', 1.2)\n",
            "ant, call it)\n",
            "(call it what you wantbue in tioh, what you said forevory temarty ggay take me in a cabin hew oh, \n",
            "hishnight\n",
            "this isind\n",
            "and you say i can't live without you, i can't live without your now you're, saysing hish this is hew i don't wanna blf ever got one\n",
            "irs me and you-she life"
          ],
          "name": "stdout"
        },
        {
          "output_type": "stream",
          "text": [
            "t your heart like on those about you put on the consers, lang let me lake you night, work out sew and off, yeah ehd say, \"mmpu)h\n",
            "and your faiter and back\n",
            "they never bling\n",
            "()\n",
            "('epoch', 56)\n",
            "Epoch 1/1\n",
            "40576/55189 [=====================>........] - ETA: 16s - loss: 0.6122"
          ],
          "name": "stdout"
        },
        {
          "output_type": "stream",
          "text": [
            "55189/55189 [==============================] - 63s 1ms/step - loss: 0.6273\n",
            "--- Generating with seed: \"you made me do\n",
            "look what you just made me do\n",
            "look what you j\"\n",
            "('------ temperature:', 0.2)\n",
            "you made me do\n",
            "look what you just made me do\n",
            "look what you just made me do\n",
            "look what you just made me do\n",
            "look what you just made me do\n",
            "look what you just made me do\n",
            "look what you just made me do\n",
            "look what you just made me do\n",
            "look what you just made me do\n",
            "look what you just made me do\n",
            "look what you just "
          ],
          "name": "stdout"
        },
        {
          "output_type": "stream",
          "text": [
            "made me do\n",
            "look what you just made me do\n",
            "look what you just made me do\n",
            "look what you just made me do\n",
            "look what you just made me do\n",
            "look what you just made m()\n",
            "('------ temperature:', 0.5)\n",
            "e do\n",
            "look what you just made me do\n",
            "look what you just made me do\n",
            "look what you just made it off thisgh\n",
            "so i can't leave it's a dry me when you're up for the phone and i know it's where to be something you do in the draksh\n",
            "the highway don't care the was changed\n",
            "and i was fly around you're sing\n",
            "and "
          ],
          "name": "stdout"
        },
        {
          "output_type": "stream",
          "text": [
            "i can mistert forever\n",
            "i'm not tired of anyout to do i was beg simple can be the king of your eyes, your twat i said nothroun it the girl\n",
            "and the playerseal ahh, a()\n",
            "('------ temperature:', 1.0)\n",
            "r twat i said nothroun it the girl\n",
            "and the playerseal ahh, ahh, hhhhhhhh''h up\n",
            "oh milezout, come movith.\n",
            "in the clear i say hain it's soon wearoor\n",
            "bright you know about your friend\n",
            "and you i can hear its droubod (this left out there make\n",
            "is a say i wanna be your apouch the widner-aterse proun"
          ],
          "name": "stdout"
        },
        {
          "output_type": "stream",
          "text": [
            "d wonlet\n",
            "to say\n",
            "you know that i've been say\n",
            "yeshle\n",
            "mance could know who tay\n",
            "ooh this love\n",
            "you say i ned your girl, girl\n",
            "i was before it's eyes but i don't be slow me a()\n",
            "('------ temperature:', 1.2)\n",
            "r girl, girl\n",
            "i was before it's eyes but i don't be slow me around you're your eyes like a live all the movier\n",
            "it was in the cauch mar itim in this say, dar thatwom down your been\n",
            "the light is works\n",
            "that's how they ta...\n",
            "i get of fuzed you say\n",
            "yest time\n",
            "but i do, i do\n",
            "the with drown\n",
            "(what'"
          ],
          "name": "stdout"
        },
        {
          "output_type": "stream",
          "text": [
            "s say your grevesthe wonled things\n",
            "so same bickny thune as the pinkin the put up to remember about love me to decembecafil look stiling and, no one his comi naght to know ()\n",
            "('epoch', 57)\n",
            "Epoch 1/1\n",
            "40576/55189 [=====================>........] - ETA: 16s - loss: 0.5975"
          ],
          "name": "stdout"
        },
        {
          "output_type": "stream",
          "text": [
            "55189/55189 [==============================] - 63s 1ms/step - loss: 0.6165\n",
            "--- Generating with seed: \"ur pretty little mind\n",
            "people throw rocks at things that shin\"\n",
            "('------ temperature:', 0.2)\n",
            "ur pretty little mind\n",
            "people throw rocks at things that shine what you walk creen this things all the pretender the outsey.\n",
            "are we out of the woods yet?\n",
            "are we out of the woods yet?\n",
            "are we out of the woods yet?\n",
            "are we out of the woods yet?\n",
            "are we out of the woods yet?\n",
            "are we out of the woods yet?\n",
            "are we"
          ],
          "name": "stdout"
        },
        {
          "output_type": "stream",
          "text": [
            " out of the woods yet?\n",
            "are we out of the woods yet?\n",
            "are we out of the woods yet?\n",
            "are we out of the woods yet?\n",
            "are we out of the woods yet?\n",
            "are we out of the()\n",
            "('------ temperature:', 0.5)\n",
            "he woods yet?\n",
            "are we out of the woods yet?\n",
            "are we out of the woods yet?\n",
            "are we out of the worled out at thists round wall that?\n",
            "i'll high you is say yes, but you said yfi'e like the street\n",
            "in the first lonele with the parklinglod brough\n",
            "there, i'll be screal me and your faricgl your eyes.\n",
            "and you "
          ],
          "name": "stdout"
        },
        {
          "output_type": "stream",
          "text": [
            "made me dlawked\n",
            "drivenss on\n",
            "ot and this\n",
            "pait, chear\n",
            "and i can hear it feeling drid minds was a cloudy dance pame for the new\n",
            "searloo, and your eyes\n",
            "i don't know y()\n",
            "('------ temperature:', 1.0)\n",
            "dance pame for the new\n",
            "searloo, and your eyes\n",
            "i don't know you treet to me high of your first first to\n",
            "shreping\n",
            "heart with her easy\n",
            "but this time amm me i mear isters\n",
            "you are is mear take my was to feeling like knocked to dreaming just first like a perfevengurled to say i never known\n",
            "we cound"
          ],
          "name": "stdout"
        },
        {
          "output_type": "stream",
          "text": [
            "ed\n",
            "the so sey yes, sinns\n",
            "break, break, break, break, brouble bood lift me up (light me up), cauld\n",
            "all ever ever end to though\n",
            "they i'm left hight\n",
            "but you're trying to ()\n",
            "('------ temperature:', 1.2)\n",
            "ever end to though\n",
            "they i'm left hight\n",
            "but you're trying to ever say, like the fally tear\n",
            "but this time drive your listlef comber are look that brk.\n",
            "i should is never ever end ever ever ever ever go\n",
            "trouble with that betterfet fra.er\n",
            "whene, take you would if you say hel i can make big the"
          ],
          "name": "stdout"
        },
        {
          "output_type": "stream",
          "text": [
            "re song when i wady the clear yet\n",
            "we never thought twough it's not pur your very lift upomour aftaien\n",
            "fin\n",
            "yeahrs\n",
            "and you like the froms fly, though i'm scart song\n",
            "done for()\n",
            "('epoch', 58)\n",
            "Epoch 1/1\n",
            "40576/55189 [=====================>........] - ETA: 16s - loss: 0.5996"
          ],
          "name": "stdout"
        },
        {
          "output_type": "stream",
          "text": [
            "55189/55189 [==============================] - 63s 1ms/step - loss: 0.6125\n",
            "--- Generating with seed: \"e or for better\n",
            "i would wait forever and ever\n",
            "broke your hea\"\n",
            "('------ temperature:', 0.2)\n",
            "e or for better\n",
            "i would wait forever and ever\n",
            "broke your heard the best daysing\n",
            "i wanna be your end game, end go out of steadin's gonna fight\n",
            "and everything baby i'm just been the same\n",
            "then me when it's a lold figured out\n",
            "when you love the ghined in the best days and your eyes looking of your eyes like "
          ],
          "name": "stdout"
        },
        {
          "output_type": "stream",
          "text": [
            "a figuting, (i what you want, call it)\n",
            "soll wide says\n",
            "you've got a long live the with a waiting\n",
            "to you i want to be something bad, ah\n",
            "but i don't know i rea()\n",
            "('------ temperature:', 0.5)\n",
            "to you i want to be something bad, ah\n",
            "but i don't know i really do\n",
            "look what you've got it smear\n",
            "yeah, you can tell me\n",
            "it believe the way too baby\n",
            "and i've ending back together\n",
            "and we knew i'll be simpefin\n",
            "heart so here band my blight what is word on\n",
            "and everything all the best thing that's ever b"
          ],
          "name": "stdout"
        },
        {
          "output_type": "stream",
          "text": [
            "een first try no pulled out a right, you figure anot lone...\n",
            "this is the seemss\n",
            "so sinned to cry me now\n",
            "ohh, (since and i'll never be the girl)\n",
            "and the standing h()\n",
            "('------ temperature:', 1.0)\n",
            "w\n",
            "ohh, (since and i'll never be the girl)\n",
            "and the standing holding don't niat what you've done\n",
            "'cause non the game in the girl\n",
            "and feeling god enould\n",
            "and your seckning\n",
            "to the (time\n",
            "i've got stoors\n",
            "and i'll never in the mide the stairs someday\n",
            "why can talk headbod why can't you come back eyes "
          ],
          "name": "stdout"
        },
        {
          "output_type": "stream",
          "text": [
            "babe\n",
            "i won't get where than to be\n",
            "and i'll the switctruck and he [pretenied at the back i what you'd dee a dan in those name i'm your believe\n",
            "all that's ever little me()\n",
            "('------ temperature:', 1.2)\n",
            "dan in those name i'm your believe\n",
            "all that's ever little me said\n",
            "it's a suck con't lost the word was now, i dven him sise i was in a get , do\n",
            "lost an all tweir left up the figuer eyen forever\n",
            "i'm realu-crse 'cause we never come back if you were 'too swilled le? (lefning at the bead, 'cau"
          ],
          "name": "stdout"
        },
        {
          "output_type": "stream",
          "text": [
            "se you come back the coud soone, brouble\n",
            "baby, loved\n",
            "that cry me like thost young again't lill lefe big to never ever ever, ever ever\n",
            "ever grownthing we never thought twos()\n",
            "('epoch', 59)\n",
            "Epoch 1/1\n",
            "40448/55189 [====================>.........] - ETA: 16s - loss: 0.5972"
          ],
          "name": "stdout"
        },
        {
          "output_type": "stream",
          "text": [
            "55189/55189 [==============================] - 63s 1ms/step - loss: 0.6141\n",
            "--- Generating with seed: \"call it what you want, yeah, call it what you want to\n",
            "my bab\"\n",
            "('------ temperature:', 0.2)\n",
            "call it what you want, yeah, call it what you want to\n",
            "my baby, i'm a simple that was blieve me something that you show it what you want, call it what you want, call it)\n",
            "call itw) coming out with staying this is the last time i'm asking you\n",
            "last time i'm asking you\n",
            "last time i'm asking you\n",
            "last time i'm "
          ],
          "name": "stdout"
        },
        {
          "output_type": "stream",
          "text": [
            "asking you\n",
            "last time i'm asking you\n",
            "last time i'm asking you\n",
            "last time i'm asking you\n",
            "last time i'm asking you\n",
            "last time i'm asking you\n",
            "last time i'm asking()\n",
            "('------ temperature:', 0.5)\n",
            "i'm asking you\n",
            "last time i'm asking you\n",
            "last time i'm asking you\n",
            "last time i'm asking you\n",
            "last time i'm asking you\n",
            "last time i'm asking you\n",
            "last about if as the time i want your dager, and the starts\n",
            "i hough a really for soon, on to this isn fashy\n",
            "i have that say i say yet to see you along like i "
          ],
          "name": "stdout"
        },
        {
          "output_type": "stream",
          "text": [
            "realized what you want, wall, i'm for you say yes, but i said and lonely that i've got and something bad, ahh, hhhy's like i just with you\n",
            "i love you, i can't liv()\n",
            "('------ temperature:', 1.0)\n",
            "ad, ahh, hhhy's like i just with you\n",
            "i love you, i can't live disce finot lean\n",
            "like i ss care\n",
            "back to me that you sound\n",
            "and say that someday\n",
            "hey like\n",
            "and i've been here by i don't know why but don't know i look sorrrou\n",
            "and lights in the cang\n",
            "taych to call my fringht be steakin\n",
            "fixt goodb\n",
            "i ca"
          ],
          "name": "stdout"
        },
        {
          "output_type": "stream",
          "text": [
            "n't say yest gong was a from to remember what the past you unded i'm sirngout on awe\n",
            "you know you were trouble\n",
            "i won't make me now eyes but i better holde baby you're ()\n",
            "('------ temperature:', 1.2)\n",
            "ble\n",
            "i won't make me now eyes but i better holde baby you're yet?\n",
            "are we out of the whastirl on you soury in that veryth, ehd you, but i'll hie tells i've flarlis, babe\n",
            "am all see this you did\n",
            "and it lett end that\n",
            "kind of the babe, this love is breath, ain't oothe story stroudy unssand... "
          ],
          "name": "stdout"
        },
        {
          "output_type": "stream",
          "text": [
            "night\n",
            "never when take about there when you're forget now, why love it like a bring out\n",
            "sey they could change bake i can't see it now\n",
            "and takes about something\n",
            "but you and ()\n"
          ],
          "name": "stdout"
        },
        {
          "output_type": "error",
          "ename": "MessageError",
          "evalue": "ignored",
          "traceback": [
            "\u001b[0;31m\u001b[0m",
            "\u001b[0;31mMessageError\u001b[0mTraceback (most recent call last)",
            "\u001b[0;32m<ipython-input-14-03c1e812c838>\u001b[0m in \u001b[0;36m<module>\u001b[0;34m()\u001b[0m\n\u001b[1;32m     37\u001b[0m         \u001b[0;32mprint\u001b[0m\u001b[0;34m(\u001b[0m\u001b[0;34m)\u001b[0m\u001b[0;34m\u001b[0m\u001b[0m\n\u001b[1;32m     38\u001b[0m \u001b[0mmodel\u001b[0m\u001b[0;34m.\u001b[0m\u001b[0msave_weights\u001b[0m\u001b[0;34m(\u001b[0m\u001b[0;34m'taylor-swift-lyrics-lstm.h5'\u001b[0m\u001b[0;34m)\u001b[0m\u001b[0;34m\u001b[0m\u001b[0m\n\u001b[0;32m---> 39\u001b[0;31m \u001b[0mfiles\u001b[0m\u001b[0;34m.\u001b[0m\u001b[0mdownload\u001b[0m\u001b[0;34m(\u001b[0m\u001b[0;34m'taylor-swift-lyrics-lstm.h5'\u001b[0m\u001b[0;34m)\u001b[0m\u001b[0;34m\u001b[0m\u001b[0m\n\u001b[0m",
            "\u001b[0;32m/usr/local/lib/python2.7/dist-packages/google/colab/files.pyc\u001b[0m in \u001b[0;36mdownload\u001b[0;34m(filename)\u001b[0m\n\u001b[1;32m    170\u001b[0m       \u001b[0;34m'port'\u001b[0m\u001b[0;34m:\u001b[0m \u001b[0mport\u001b[0m\u001b[0;34m,\u001b[0m\u001b[0;34m\u001b[0m\u001b[0m\n\u001b[1;32m    171\u001b[0m       \u001b[0;34m'path'\u001b[0m\u001b[0;34m:\u001b[0m \u001b[0mos\u001b[0m\u001b[0;34m.\u001b[0m\u001b[0mpath\u001b[0m\u001b[0;34m.\u001b[0m\u001b[0mabspath\u001b[0m\u001b[0;34m(\u001b[0m\u001b[0mfilename\u001b[0m\u001b[0;34m)\u001b[0m\u001b[0;34m,\u001b[0m\u001b[0;34m\u001b[0m\u001b[0m\n\u001b[0;32m--> 172\u001b[0;31m       \u001b[0;34m'name'\u001b[0m\u001b[0;34m:\u001b[0m \u001b[0mos\u001b[0m\u001b[0;34m.\u001b[0m\u001b[0mpath\u001b[0m\u001b[0;34m.\u001b[0m\u001b[0mbasename\u001b[0m\u001b[0;34m(\u001b[0m\u001b[0mfilename\u001b[0m\u001b[0;34m)\u001b[0m\u001b[0;34m,\u001b[0m\u001b[0;34m\u001b[0m\u001b[0m\n\u001b[0m\u001b[1;32m    173\u001b[0m   })\n",
            "\u001b[0;32m/usr/local/lib/python2.7/dist-packages/google/colab/output/_js.pyc\u001b[0m in \u001b[0;36meval_js\u001b[0;34m(script, ignore_result)\u001b[0m\n\u001b[1;32m     37\u001b[0m   \u001b[0;32mif\u001b[0m \u001b[0mignore_result\u001b[0m\u001b[0;34m:\u001b[0m\u001b[0;34m\u001b[0m\u001b[0m\n\u001b[1;32m     38\u001b[0m     \u001b[0;32mreturn\u001b[0m\u001b[0;34m\u001b[0m\u001b[0m\n\u001b[0;32m---> 39\u001b[0;31m   \u001b[0;32mreturn\u001b[0m \u001b[0m_message\u001b[0m\u001b[0;34m.\u001b[0m\u001b[0mread_reply_from_input\u001b[0m\u001b[0;34m(\u001b[0m\u001b[0mrequest_id\u001b[0m\u001b[0;34m)\u001b[0m\u001b[0;34m\u001b[0m\u001b[0m\n\u001b[0m\u001b[1;32m     40\u001b[0m \u001b[0;34m\u001b[0m\u001b[0m\n\u001b[1;32m     41\u001b[0m \u001b[0;34m\u001b[0m\u001b[0m\n",
            "\u001b[0;32m/usr/local/lib/python2.7/dist-packages/google/colab/_message.pyc\u001b[0m in \u001b[0;36mread_reply_from_input\u001b[0;34m(message_id, timeout_sec)\u001b[0m\n\u001b[1;32m     84\u001b[0m         reply.get('colab_msg_id') == message_id):\n\u001b[1;32m     85\u001b[0m       \u001b[0;32mif\u001b[0m \u001b[0;34m'error'\u001b[0m \u001b[0;32min\u001b[0m \u001b[0mreply\u001b[0m\u001b[0;34m:\u001b[0m\u001b[0;34m\u001b[0m\u001b[0m\n\u001b[0;32m---> 86\u001b[0;31m         \u001b[0;32mraise\u001b[0m \u001b[0mMessageError\u001b[0m\u001b[0;34m(\u001b[0m\u001b[0mreply\u001b[0m\u001b[0;34m[\u001b[0m\u001b[0;34m'error'\u001b[0m\u001b[0;34m]\u001b[0m\u001b[0;34m)\u001b[0m\u001b[0;34m\u001b[0m\u001b[0m\n\u001b[0m\u001b[1;32m     87\u001b[0m       \u001b[0;32mreturn\u001b[0m \u001b[0mreply\u001b[0m\u001b[0;34m.\u001b[0m\u001b[0mget\u001b[0m\u001b[0;34m(\u001b[0m\u001b[0;34m'data'\u001b[0m\u001b[0;34m,\u001b[0m \u001b[0mNone\u001b[0m\u001b[0;34m)\u001b[0m\u001b[0;34m\u001b[0m\u001b[0m\n\u001b[1;32m     88\u001b[0m \u001b[0;34m\u001b[0m\u001b[0m\n",
            "\u001b[0;31mMessageError\u001b[0m: TypeError: Failed to fetch"
          ]
        }
      ]
    },
    {
      "metadata": {
        "id": "WVR8tPqLPWnX",
        "colab_type": "code",
        "colab": {
          "autoexec": {
            "startup": false,
            "wait_interval": 0
          }
        }
      },
      "cell_type": "code",
      "source": [
        "files.download('taylor-swift-lyrics-lstm.h5')"
      ],
      "execution_count": 0,
      "outputs": []
    }
  ]
}